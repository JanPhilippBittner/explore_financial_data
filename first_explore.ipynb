{
 "cells": [
  {
   "cell_type": "code",
   "execution_count": 1,
   "id": "0f973800-3fc0-4d49-97d8-755929cce75b",
   "metadata": {},
   "outputs": [],
   "source": [
    "import polars as pl\n",
    "import seaborn as sns\n",
    "import json"
   ]
  },
  {
   "cell_type": "code",
   "execution_count": 2,
   "id": "fc9a8a06-f08f-4f7c-820e-dfb2581d8706",
   "metadata": {},
   "outputs": [],
   "source": [
    "# read the transaction CSV\n",
    "df = pl.read_csv(\"transactions_data.csv\")"
   ]
  },
  {
   "cell_type": "code",
   "execution_count": 3,
   "id": "86cdec96-4de8-40cb-a712-8d93404cdf52",
   "metadata": {},
   "outputs": [],
   "source": [
    "# read the json file containing mcc codes\n",
    "with open(\"mcc_codes.json\" , \"r\") as f:\n",
    "    json_data = json.load(f)\n",
    "\n",
    "json_list = [[] , []]\n",
    "for key, value in json_data.items():\n",
    "    json_list[0].append(key)\n",
    "    json_list[1].append(value)\n",
    "\n",
    "df_mcc_codes = pl.DataFrame({\"mcc\" : json_list[0] , \"merchant_category\" : json_list[1]} , schema={\"mcc\" : pl.Int64 , \"merchant_category\" : pl.String} , strict=False)"
   ]
  },
  {
   "cell_type": "code",
   "execution_count": 4,
   "id": "56ad1f3a-96fe-4815-b119-2ac28474f460",
   "metadata": {},
   "outputs": [],
   "source": [
    "# construct the final dataframe by joining the mcc_codes to it\n",
    "df = df.join(other=df_mcc_codes , on=\"mcc\", how=\"left\")"
   ]
  },
  {
   "cell_type": "code",
   "execution_count": 5,
   "id": "7675d49e-0977-47bc-a7c6-81198505d9c1",
   "metadata": {},
   "outputs": [
    {
     "data": {
      "text/plain": [
       "(13305915, 13)"
      ]
     },
     "execution_count": 5,
     "metadata": {},
     "output_type": "execute_result"
    }
   ],
   "source": [
    "df.shape"
   ]
  },
  {
   "cell_type": "code",
   "execution_count": 6,
   "id": "34479c7e-533d-495a-8807-9ab55bf8e48f",
   "metadata": {},
   "outputs": [
    {
     "data": {
      "text/html": [
       "<div><style>\n",
       ".dataframe > thead > tr,\n",
       ".dataframe > tbody > tr {\n",
       "  text-align: right;\n",
       "  white-space: pre-wrap;\n",
       "}\n",
       "</style>\n",
       "<small>shape: (9, 14)</small><table border=\"1\" class=\"dataframe\"><thead><tr><th>statistic</th><th>id</th><th>date</th><th>client_id</th><th>card_id</th><th>amount</th><th>use_chip</th><th>merchant_id</th><th>merchant_city</th><th>merchant_state</th><th>zip</th><th>mcc</th><th>errors</th><th>merchant_category</th></tr><tr><td>str</td><td>f64</td><td>str</td><td>f64</td><td>f64</td><td>str</td><td>str</td><td>f64</td><td>str</td><td>str</td><td>f64</td><td>f64</td><td>str</td><td>str</td></tr></thead><tbody><tr><td>&quot;count&quot;</td><td>1.3305915e7</td><td>&quot;13305915&quot;</td><td>1.3305915e7</td><td>1.3305915e7</td><td>&quot;13305915&quot;</td><td>&quot;13305915&quot;</td><td>1.3305915e7</td><td>&quot;13305915&quot;</td><td>&quot;11742215&quot;</td><td>1.1653209e7</td><td>1.3305915e7</td><td>&quot;211393&quot;</td><td>&quot;13305915&quot;</td></tr><tr><td>&quot;null_count&quot;</td><td>0.0</td><td>&quot;0&quot;</td><td>0.0</td><td>0.0</td><td>&quot;0&quot;</td><td>&quot;0&quot;</td><td>0.0</td><td>&quot;0&quot;</td><td>&quot;1563700&quot;</td><td>1.652706e6</td><td>0.0</td><td>&quot;13094522&quot;</td><td>&quot;0&quot;</td></tr><tr><td>&quot;mean&quot;</td><td>1.5584e7</td><td>null</td><td>1026.812046</td><td>3475.267651</td><td>null</td><td>null</td><td>47723.763181</td><td>null</td><td>null</td><td>51327.819831</td><td>5565.439815</td><td>null</td><td>null</td></tr><tr><td>&quot;std&quot;</td><td>4.7045e6</td><td>null</td><td>581.638559</td><td>1674.355912</td><td>null</td><td>null</td><td>25815.337691</td><td>null</td><td>null</td><td>29404.225234</td><td>875.700238</td><td>null</td><td>null</td></tr><tr><td>&quot;min&quot;</td><td>7.475327e6</td><td>&quot;2010-01-01 00:01:00&quot;</td><td>0.0</td><td>0.0</td><td>&quot;$-0.00&quot;</td><td>&quot;Chip Transaction&quot;</td><td>1.0</td><td>&quot;Aaronsburg&quot;</td><td>&quot;AA&quot;</td><td>1001.0</td><td>1711.0</td><td>&quot;Bad CVV&quot;</td><td>&quot;Accounting, Auditing, and Book…</td></tr><tr><td>&quot;25%&quot;</td><td>1.1506045e7</td><td>null</td><td>519.0</td><td>2413.0</td><td>null</td><td>null</td><td>25887.0</td><td>null</td><td>null</td><td>28602.0</td><td>5300.0</td><td>null</td><td>null</td></tr><tr><td>&quot;50%&quot;</td><td>1.5570866e7</td><td>null</td><td>1070.0</td><td>3584.0</td><td>null</td><td>null</td><td>45926.0</td><td>null</td><td>null</td><td>47670.0</td><td>5499.0</td><td>null</td><td>null</td></tr><tr><td>&quot;75%&quot;</td><td>1.9653606e7</td><td>null</td><td>1531.0</td><td>4901.0</td><td>null</td><td>null</td><td>67570.0</td><td>null</td><td>null</td><td>77901.0</td><td>5812.0</td><td>null</td><td>null</td></tr><tr><td>&quot;max&quot;</td><td>2.3761874e7</td><td>&quot;2019-10-31 23:59:00&quot;</td><td>1998.0</td><td>6144.0</td><td>&quot;$999.97&quot;</td><td>&quot;Swipe Transaction&quot;</td><td>100342.0</td><td>&quot;Zwolle&quot;</td><td>&quot;Zimbabwe&quot;</td><td>99928.0</td><td>9402.0</td><td>&quot;Technical Glitch&quot;</td><td>&quot;Women&#x27;s Ready-To-Wear Stores&quot;</td></tr></tbody></table></div>"
      ],
      "text/plain": [
       "shape: (9, 14)\n",
       "┌────────────┬─────────────┬────────────┬─────────────┬───┬──────────────┬─────────────┬───────────┬───────────────────┐\n",
       "│ statistic  ┆ id          ┆ date       ┆ client_id   ┆ … ┆ zip          ┆ mcc         ┆ errors    ┆ merchant_category │\n",
       "│ ---        ┆ ---         ┆ ---        ┆ ---         ┆   ┆ ---          ┆ ---         ┆ ---       ┆ ---               │\n",
       "│ str        ┆ f64         ┆ str        ┆ f64         ┆   ┆ f64          ┆ f64         ┆ str       ┆ str               │\n",
       "╞════════════╪═════════════╪════════════╪═════════════╪═══╪══════════════╪═════════════╪═══════════╪═══════════════════╡\n",
       "│ count      ┆ 1.3305915e7 ┆ 13305915   ┆ 1.3305915e7 ┆ … ┆ 1.1653209e7  ┆ 1.3305915e7 ┆ 211393    ┆ 13305915          │\n",
       "│ null_count ┆ 0.0         ┆ 0          ┆ 0.0         ┆ … ┆ 1.652706e6   ┆ 0.0         ┆ 13094522  ┆ 0                 │\n",
       "│ mean       ┆ 1.5584e7    ┆ null       ┆ 1026.812046 ┆ … ┆ 51327.819831 ┆ 5565.439815 ┆ null      ┆ null              │\n",
       "│ std        ┆ 4.7045e6    ┆ null       ┆ 581.638559  ┆ … ┆ 29404.225234 ┆ 875.700238  ┆ null      ┆ null              │\n",
       "│ min        ┆ 7.475327e6  ┆ 2010-01-01 ┆ 0.0         ┆ … ┆ 1001.0       ┆ 1711.0      ┆ Bad CVV   ┆ Accounting,       │\n",
       "│            ┆             ┆ 00:01:00   ┆             ┆   ┆              ┆             ┆           ┆ Auditing, and     │\n",
       "│            ┆             ┆            ┆             ┆   ┆              ┆             ┆           ┆ Book…             │\n",
       "│ 25%        ┆ 1.1506045e7 ┆ null       ┆ 519.0       ┆ … ┆ 28602.0      ┆ 5300.0      ┆ null      ┆ null              │\n",
       "│ 50%        ┆ 1.5570866e7 ┆ null       ┆ 1070.0      ┆ … ┆ 47670.0      ┆ 5499.0      ┆ null      ┆ null              │\n",
       "│ 75%        ┆ 1.9653606e7 ┆ null       ┆ 1531.0      ┆ … ┆ 77901.0      ┆ 5812.0      ┆ null      ┆ null              │\n",
       "│ max        ┆ 2.3761874e7 ┆ 2019-10-31 ┆ 1998.0      ┆ … ┆ 99928.0      ┆ 9402.0      ┆ Technical ┆ Women's           │\n",
       "│            ┆             ┆ 23:59:00   ┆             ┆   ┆              ┆             ┆ Glitch    ┆ Ready-To-Wear     │\n",
       "│            ┆             ┆            ┆             ┆   ┆              ┆             ┆           ┆ Stores            │\n",
       "└────────────┴─────────────┴────────────┴─────────────┴───┴──────────────┴─────────────┴───────────┴───────────────────┘"
      ]
     },
     "execution_count": 6,
     "metadata": {},
     "output_type": "execute_result"
    }
   ],
   "source": [
    "df.describe()"
   ]
  },
  {
   "cell_type": "code",
   "execution_count": 7,
   "id": "facb6acf-b8d0-486d-ab77-5c8cf73291f8",
   "metadata": {},
   "outputs": [
    {
     "name": "stdout",
     "output_type": "stream",
     "text": [
      "Rows: 13305915\n",
      "Columns: 13\n",
      "$ id                <i64> 7475327, 7475328, 7475329, 7475331, 7475332, 7475333, 7475334, 7475335, 7475336, 7475337\n",
      "$ date              <str> '2010-01-01 00:01:00', '2010-01-01 00:02:00', '2010-01-01 00:02:00', '2010-01-01 00:05:00', '2010-01-01 00:06:00', '2010-01-01 00:07:00', '2010-01-01 00:09:00', '2010-01-01 00:14:00', '2010-01-01 00:21:00', '2010-01-01 00:21:00'\n",
      "$ client_id         <i64> 1556, 561, 1129, 430, 848, 1807, 1556, 1684, 335, 351\n",
      "$ card_id           <i64> 2972, 4575, 102, 2860, 3915, 165, 2972, 2140, 5131, 1112\n",
      "$ amount            <str> '$-77.00', '$14.57', '$80.00', '$200.00', '$46.41', '$4.81', '$77.00', '$26.46', '$261.58', '$10.74'\n",
      "$ use_chip          <str> 'Swipe Transaction', 'Swipe Transaction', 'Swipe Transaction', 'Swipe Transaction', 'Swipe Transaction', 'Swipe Transaction', 'Swipe Transaction', 'Online Transaction', 'Online Transaction', 'Swipe Transaction'\n",
      "$ merchant_id       <i64> 59935, 67570, 27092, 27092, 13051, 20519, 59935, 39021, 50292, 3864\n",
      "$ merchant_city     <str> 'Beulah', 'Bettendorf', 'Vista', 'Crown Point', 'Harwood', 'Bronx', 'Beulah', 'ONLINE', 'ONLINE', 'Flushing'\n",
      "$ merchant_state    <str> 'ND', 'IA', 'CA', 'IN', 'MD', 'NY', 'ND', None, None, 'NY'\n",
      "$ zip               <f64> 58523.0, 52722.0, 92084.0, 46307.0, 20776.0, 10464.0, 58523.0, None, None, 11355.0\n",
      "$ mcc               <i64> 5499, 5311, 4829, 4829, 5813, 5942, 5499, 4784, 7801, 5813\n",
      "$ errors            <str> None, None, None, None, None, None, None, None, None, None\n",
      "$ merchant_category <str> 'Miscellaneous Food Stores', 'Department Stores', 'Money Transfer', 'Money Transfer', 'Drinking Places (Alcoholic Beverages)', 'Book Stores', 'Miscellaneous Food Stores', 'Tolls and Bridge Fees', 'Athletic Fields, Commercial Sports', 'Drinking Places (Alcoholic Beverages)'\n",
      "\n"
     ]
    }
   ],
   "source": [
    "df.glimpse(max_items_per_column=10)"
   ]
  },
  {
   "cell_type": "code",
   "execution_count": 8,
   "id": "9927e33d-802d-49d0-b4b0-5e1a4d2ec477",
   "metadata": {},
   "outputs": [
    {
     "data": {
      "text/html": [
       "<div><style>\n",
       ".dataframe > thead > tr,\n",
       ".dataframe > tbody > tr {\n",
       "  text-align: right;\n",
       "  white-space: pre-wrap;\n",
       "}\n",
       "</style>\n",
       "<small>shape: (1, 13)</small><table border=\"1\" class=\"dataframe\"><thead><tr><th>id</th><th>date</th><th>client_id</th><th>card_id</th><th>amount</th><th>use_chip</th><th>merchant_id</th><th>merchant_city</th><th>merchant_state</th><th>zip</th><th>mcc</th><th>errors</th><th>merchant_category</th></tr><tr><td>u32</td><td>u32</td><td>u32</td><td>u32</td><td>u32</td><td>u32</td><td>u32</td><td>u32</td><td>u32</td><td>u32</td><td>u32</td><td>u32</td><td>u32</td></tr></thead><tbody><tr><td>13305915</td><td>4136496</td><td>1219</td><td>4071</td><td>81161</td><td>3</td><td>74831</td><td>12492</td><td>200</td><td>25257</td><td>109</td><td>23</td><td>108</td></tr></tbody></table></div>"
      ],
      "text/plain": [
       "shape: (1, 13)\n",
       "┌──────────┬─────────┬───────────┬─────────┬───┬───────┬─────┬────────┬───────────────────┐\n",
       "│ id       ┆ date    ┆ client_id ┆ card_id ┆ … ┆ zip   ┆ mcc ┆ errors ┆ merchant_category │\n",
       "│ ---      ┆ ---     ┆ ---       ┆ ---     ┆   ┆ ---   ┆ --- ┆ ---    ┆ ---               │\n",
       "│ u32      ┆ u32     ┆ u32       ┆ u32     ┆   ┆ u32   ┆ u32 ┆ u32    ┆ u32               │\n",
       "╞══════════╪═════════╪═══════════╪═════════╪═══╪═══════╪═════╪════════╪═══════════════════╡\n",
       "│ 13305915 ┆ 4136496 ┆ 1219      ┆ 4071    ┆ … ┆ 25257 ┆ 109 ┆ 23     ┆ 108               │\n",
       "└──────────┴─────────┴───────────┴─────────┴───┴───────┴─────┴────────┴───────────────────┘"
      ]
     },
     "execution_count": 8,
     "metadata": {},
     "output_type": "execute_result"
    }
   ],
   "source": [
    "df.select(pl.all().n_unique())"
   ]
  },
  {
   "cell_type": "code",
   "execution_count": 9,
   "id": "257ee819-bd07-44d2-a817-5420257580ac",
   "metadata": {},
   "outputs": [
    {
     "data": {
      "text/html": [
       "<div><style>\n",
       ".dataframe > thead > tr,\n",
       ".dataframe > tbody > tr {\n",
       "  text-align: right;\n",
       "  white-space: pre-wrap;\n",
       "}\n",
       "</style>\n",
       "<small>shape: (3, 2)</small><table border=\"1\" class=\"dataframe\"><thead><tr><th>use_chip</th><th>count</th></tr><tr><td>str</td><td>u32</td></tr></thead><tbody><tr><td>&quot;Online Transaction&quot;</td><td>1557912</td></tr><tr><td>&quot;Chip Transaction&quot;</td><td>4780818</td></tr><tr><td>&quot;Swipe Transaction&quot;</td><td>6967185</td></tr></tbody></table></div>"
      ],
      "text/plain": [
       "shape: (3, 2)\n",
       "┌────────────────────┬─────────┐\n",
       "│ use_chip           ┆ count   │\n",
       "│ ---                ┆ ---     │\n",
       "│ str                ┆ u32     │\n",
       "╞════════════════════╪═════════╡\n",
       "│ Online Transaction ┆ 1557912 │\n",
       "│ Chip Transaction   ┆ 4780818 │\n",
       "│ Swipe Transaction  ┆ 6967185 │\n",
       "└────────────────────┴─────────┘"
      ]
     },
     "execution_count": 9,
     "metadata": {},
     "output_type": "execute_result"
    }
   ],
   "source": [
    "# This can be used for a visualization of different amounts of transactions\n",
    "df_chip_usage = df.get_column(\"use_chip\").value_counts()\n",
    "df.get_column(\"use_chip\").value_counts()"
   ]
  },
  {
   "cell_type": "code",
   "execution_count": 10,
   "id": "0433ef4a-6e8b-4c6a-9713-d60169f320fd",
   "metadata": {},
   "outputs": [
    {
     "data": {
      "text/html": [
       "<div><style>\n",
       ".dataframe > thead > tr,\n",
       ".dataframe > tbody > tr {\n",
       "  text-align: right;\n",
       "  white-space: pre-wrap;\n",
       "}\n",
       "</style>\n",
       "<small>shape: (5, 13)</small><table border=\"1\" class=\"dataframe\"><thead><tr><th>id</th><th>date</th><th>client_id</th><th>card_id</th><th>amount</th><th>use_chip</th><th>merchant_id</th><th>merchant_city</th><th>merchant_state</th><th>zip</th><th>mcc</th><th>errors</th><th>merchant_category</th></tr><tr><td>i64</td><td>str</td><td>i64</td><td>i64</td><td>str</td><td>str</td><td>i64</td><td>str</td><td>str</td><td>f64</td><td>i64</td><td>str</td><td>str</td></tr></thead><tbody><tr><td>7475327</td><td>&quot;2010-01-01 00:01:00&quot;</td><td>1556</td><td>2972</td><td>&quot;$-77.00&quot;</td><td>&quot;Swipe Transaction&quot;</td><td>59935</td><td>&quot;Beulah&quot;</td><td>&quot;ND&quot;</td><td>58523.0</td><td>5499</td><td>null</td><td>&quot;Miscellaneous Food Stores&quot;</td></tr><tr><td>7475328</td><td>&quot;2010-01-01 00:02:00&quot;</td><td>561</td><td>4575</td><td>&quot;$14.57&quot;</td><td>&quot;Swipe Transaction&quot;</td><td>67570</td><td>&quot;Bettendorf&quot;</td><td>&quot;IA&quot;</td><td>52722.0</td><td>5311</td><td>null</td><td>&quot;Department Stores&quot;</td></tr><tr><td>7475329</td><td>&quot;2010-01-01 00:02:00&quot;</td><td>1129</td><td>102</td><td>&quot;$80.00&quot;</td><td>&quot;Swipe Transaction&quot;</td><td>27092</td><td>&quot;Vista&quot;</td><td>&quot;CA&quot;</td><td>92084.0</td><td>4829</td><td>null</td><td>&quot;Money Transfer&quot;</td></tr><tr><td>7475331</td><td>&quot;2010-01-01 00:05:00&quot;</td><td>430</td><td>2860</td><td>&quot;$200.00&quot;</td><td>&quot;Swipe Transaction&quot;</td><td>27092</td><td>&quot;Crown Point&quot;</td><td>&quot;IN&quot;</td><td>46307.0</td><td>4829</td><td>null</td><td>&quot;Money Transfer&quot;</td></tr><tr><td>7475332</td><td>&quot;2010-01-01 00:06:00&quot;</td><td>848</td><td>3915</td><td>&quot;$46.41&quot;</td><td>&quot;Swipe Transaction&quot;</td><td>13051</td><td>&quot;Harwood&quot;</td><td>&quot;MD&quot;</td><td>20776.0</td><td>5813</td><td>null</td><td>&quot;Drinking Places (Alcoholic Bev…</td></tr></tbody></table></div>"
      ],
      "text/plain": [
       "shape: (5, 13)\n",
       "┌─────────┬─────────────────────┬───────────┬─────────┬───┬─────────┬──────┬────────┬─────────────────────────────────┐\n",
       "│ id      ┆ date                ┆ client_id ┆ card_id ┆ … ┆ zip     ┆ mcc  ┆ errors ┆ merchant_category               │\n",
       "│ ---     ┆ ---                 ┆ ---       ┆ ---     ┆   ┆ ---     ┆ ---  ┆ ---    ┆ ---                             │\n",
       "│ i64     ┆ str                 ┆ i64       ┆ i64     ┆   ┆ f64     ┆ i64  ┆ str    ┆ str                             │\n",
       "╞═════════╪═════════════════════╪═══════════╪═════════╪═══╪═════════╪══════╪════════╪═════════════════════════════════╡\n",
       "│ 7475327 ┆ 2010-01-01 00:01:00 ┆ 1556      ┆ 2972    ┆ … ┆ 58523.0 ┆ 5499 ┆ null   ┆ Miscellaneous Food Stores       │\n",
       "│ 7475328 ┆ 2010-01-01 00:02:00 ┆ 561       ┆ 4575    ┆ … ┆ 52722.0 ┆ 5311 ┆ null   ┆ Department Stores               │\n",
       "│ 7475329 ┆ 2010-01-01 00:02:00 ┆ 1129      ┆ 102     ┆ … ┆ 92084.0 ┆ 4829 ┆ null   ┆ Money Transfer                  │\n",
       "│ 7475331 ┆ 2010-01-01 00:05:00 ┆ 430       ┆ 2860    ┆ … ┆ 46307.0 ┆ 4829 ┆ null   ┆ Money Transfer                  │\n",
       "│ 7475332 ┆ 2010-01-01 00:06:00 ┆ 848       ┆ 3915    ┆ … ┆ 20776.0 ┆ 5813 ┆ null   ┆ Drinking Places (Alcoholic Bev… │\n",
       "└─────────┴─────────────────────┴───────────┴─────────┴───┴─────────┴──────┴────────┴─────────────────────────────────┘"
      ]
     },
     "execution_count": 10,
     "metadata": {},
     "output_type": "execute_result"
    }
   ],
   "source": [
    "df.head()"
   ]
  },
  {
   "cell_type": "code",
   "execution_count": 11,
   "id": "bf6ba57d-dc1e-480b-87ae-ec563bd949ad",
   "metadata": {},
   "outputs": [
    {
     "data": {
      "text/html": [
       "<div><style>\n",
       ".dataframe > thead > tr,\n",
       ".dataframe > tbody > tr {\n",
       "  text-align: right;\n",
       "  white-space: pre-wrap;\n",
       "}\n",
       "</style>\n",
       "<small>shape: (5, 13)</small><table border=\"1\" class=\"dataframe\"><thead><tr><th>id</th><th>date</th><th>client_id</th><th>card_id</th><th>amount</th><th>use_chip</th><th>merchant_id</th><th>merchant_city</th><th>merchant_state</th><th>zip</th><th>mcc</th><th>errors</th><th>merchant_category</th></tr><tr><td>i64</td><td>str</td><td>i64</td><td>i64</td><td>str</td><td>str</td><td>i64</td><td>str</td><td>str</td><td>f64</td><td>i64</td><td>str</td><td>str</td></tr></thead><tbody><tr><td>23761868</td><td>&quot;2019-10-31 23:56:00&quot;</td><td>1718</td><td>2379</td><td>&quot;$1.11&quot;</td><td>&quot;Chip Transaction&quot;</td><td>86438</td><td>&quot;West Covina&quot;</td><td>&quot;CA&quot;</td><td>91792.0</td><td>5499</td><td>null</td><td>&quot;Miscellaneous Food Stores&quot;</td></tr><tr><td>23761869</td><td>&quot;2019-10-31 23:56:00&quot;</td><td>1766</td><td>2066</td><td>&quot;$12.80&quot;</td><td>&quot;Online Transaction&quot;</td><td>39261</td><td>&quot;ONLINE&quot;</td><td>null</td><td>null</td><td>5815</td><td>null</td><td>&quot;Digital Goods - Media, Books, …</td></tr><tr><td>23761870</td><td>&quot;2019-10-31 23:57:00&quot;</td><td>199</td><td>1031</td><td>&quot;$40.44&quot;</td><td>&quot;Swipe Transaction&quot;</td><td>2925</td><td>&quot;Allen&quot;</td><td>&quot;TX&quot;</td><td>75002.0</td><td>4900</td><td>null</td><td>&quot;Utilities - Electric, Gas, Wat…</td></tr><tr><td>23761873</td><td>&quot;2019-10-31 23:58:00&quot;</td><td>1986</td><td>5443</td><td>&quot;$4.00&quot;</td><td>&quot;Chip Transaction&quot;</td><td>46284</td><td>&quot;Daly City&quot;</td><td>&quot;CA&quot;</td><td>94014.0</td><td>5411</td><td>null</td><td>&quot;Grocery Stores, Supermarkets&quot;</td></tr><tr><td>23761874</td><td>&quot;2019-10-31 23:59:00&quot;</td><td>489</td><td>5697</td><td>&quot;$12.88&quot;</td><td>&quot;Chip Transaction&quot;</td><td>24658</td><td>&quot;Greenbrier&quot;</td><td>&quot;TN&quot;</td><td>37073.0</td><td>5921</td><td>null</td><td>&quot;Package Stores, Beer, Wine, Li…</td></tr></tbody></table></div>"
      ],
      "text/plain": [
       "shape: (5, 13)\n",
       "┌──────────┬─────────────────────┬───────────┬─────────┬───┬─────────┬──────┬────────┬─────────────────────────────────┐\n",
       "│ id       ┆ date                ┆ client_id ┆ card_id ┆ … ┆ zip     ┆ mcc  ┆ errors ┆ merchant_category               │\n",
       "│ ---      ┆ ---                 ┆ ---       ┆ ---     ┆   ┆ ---     ┆ ---  ┆ ---    ┆ ---                             │\n",
       "│ i64      ┆ str                 ┆ i64       ┆ i64     ┆   ┆ f64     ┆ i64  ┆ str    ┆ str                             │\n",
       "╞══════════╪═════════════════════╪═══════════╪═════════╪═══╪═════════╪══════╪════════╪═════════════════════════════════╡\n",
       "│ 23761868 ┆ 2019-10-31 23:56:00 ┆ 1718      ┆ 2379    ┆ … ┆ 91792.0 ┆ 5499 ┆ null   ┆ Miscellaneous Food Stores       │\n",
       "│ 23761869 ┆ 2019-10-31 23:56:00 ┆ 1766      ┆ 2066    ┆ … ┆ null    ┆ 5815 ┆ null   ┆ Digital Goods - Media, Books, … │\n",
       "│ 23761870 ┆ 2019-10-31 23:57:00 ┆ 199       ┆ 1031    ┆ … ┆ 75002.0 ┆ 4900 ┆ null   ┆ Utilities - Electric, Gas, Wat… │\n",
       "│ 23761873 ┆ 2019-10-31 23:58:00 ┆ 1986      ┆ 5443    ┆ … ┆ 94014.0 ┆ 5411 ┆ null   ┆ Grocery Stores, Supermarkets    │\n",
       "│ 23761874 ┆ 2019-10-31 23:59:00 ┆ 489       ┆ 5697    ┆ … ┆ 37073.0 ┆ 5921 ┆ null   ┆ Package Stores, Beer, Wine, Li… │\n",
       "└──────────┴─────────────────────┴───────────┴─────────┴───┴─────────┴──────┴────────┴─────────────────────────────────┘"
      ]
     },
     "execution_count": 11,
     "metadata": {},
     "output_type": "execute_result"
    }
   ],
   "source": [
    "df.tail()"
   ]
  },
  {
   "cell_type": "markdown",
   "id": "5946ab74-145f-4442-a6f2-a254a0d0dcef",
   "metadata": {},
   "source": [
    "## Data Cleaning"
   ]
  },
  {
   "cell_type": "markdown",
   "id": "b0d37e26-ca8d-4572-bf4d-50257beb2db4",
   "metadata": {},
   "source": [
    "### Set data type of attribute \"date\""
   ]
  },
  {
   "cell_type": "code",
   "execution_count": 12,
   "id": "5fbf6c48-6a0f-4592-a947-f1bfba317603",
   "metadata": {},
   "outputs": [],
   "source": [
    "df = df.with_columns(\n",
    "    pl.col(\"date\").str.strptime(pl.Datetime, format=\"%Y-%m-%d %H:%M:%S\").alias(\"date\")\n",
    ")"
   ]
  },
  {
   "cell_type": "code",
   "execution_count": 13,
   "id": "da960300-e592-4f2c-9ea4-8140fb6c62aa",
   "metadata": {},
   "outputs": [],
   "source": [
    "df = df.with_columns(\n",
    "    pl.col(\"date\").dt.date().alias(\"date\")\n",
    ")"
   ]
  },
  {
   "cell_type": "markdown",
   "id": "3e0a66c1-04d5-46ba-adf9-b83975b3c859",
   "metadata": {},
   "source": [
    "### Cast attribute zip to integer"
   ]
  },
  {
   "cell_type": "code",
   "execution_count": 14,
   "id": "c452be05-d3b2-486b-8fbf-727dd239b84a",
   "metadata": {},
   "outputs": [],
   "source": [
    "df = df.cast({\"zip\":pl.Int64})"
   ]
  },
  {
   "cell_type": "markdown",
   "id": "b7917bf3-f3e9-4125-afc5-e53e05225ec4",
   "metadata": {},
   "source": [
    "### Split amount into Debit and Credit"
   ]
  },
  {
   "cell_type": "code",
   "execution_count": 15,
   "id": "d36ef6d3-8a28-4b64-9cb9-e51f4e7b6387",
   "metadata": {},
   "outputs": [],
   "source": [
    "df = df.with_columns(\n",
    "    pl.col(\"amount\").str.replace_all(\"$\",\"\" , literal=True).alias(\"amount\")\n",
    ")"
   ]
  },
  {
   "cell_type": "code",
   "execution_count": 16,
   "id": "7d9ba3ed-3c5b-4539-a5ec-47f6c0320616",
   "metadata": {},
   "outputs": [],
   "source": [
    "df = df.cast({\"amount\" : pl.Float32})"
   ]
  },
  {
   "cell_type": "code",
   "execution_count": 17,
   "id": "006397e0-021e-43a9-bcc3-9ee7c2b6f472",
   "metadata": {},
   "outputs": [],
   "source": [
    "df = df.with_columns(\n",
    "    pl.when(pl.col(\"amount\") < 0).then(pl.col(\"amount\")).fill_null(0).alias(\"debit\")\n",
    "    ,pl.when(pl.col(\"amount\") >= 0).then(pl.col(\"amount\")).fill_null(0).alias(\"credit\")\n",
    "    , pl.when(pl.col(\"amount\") < 0).then(0).otherwise(1).fill_null(0).alias(\"in_out_flag\")\n",
    ")"
   ]
  },
  {
   "cell_type": "code",
   "execution_count": 18,
   "id": "9cb0d64f-346e-4299-871e-a6f06656c77b",
   "metadata": {},
   "outputs": [
    {
     "data": {
      "text/html": [
       "<div><style>\n",
       ".dataframe > thead > tr,\n",
       ".dataframe > tbody > tr {\n",
       "  text-align: right;\n",
       "  white-space: pre-wrap;\n",
       "}\n",
       "</style>\n",
       "<small>shape: (5, 16)</small><table border=\"1\" class=\"dataframe\"><thead><tr><th>id</th><th>date</th><th>client_id</th><th>card_id</th><th>amount</th><th>use_chip</th><th>merchant_id</th><th>merchant_city</th><th>merchant_state</th><th>zip</th><th>mcc</th><th>errors</th><th>merchant_category</th><th>debit</th><th>credit</th><th>in_out_flag</th></tr><tr><td>i64</td><td>date</td><td>i64</td><td>i64</td><td>f32</td><td>str</td><td>i64</td><td>str</td><td>str</td><td>i64</td><td>i64</td><td>str</td><td>str</td><td>f32</td><td>f32</td><td>i32</td></tr></thead><tbody><tr><td>7475327</td><td>2010-01-01</td><td>1556</td><td>2972</td><td>-77.0</td><td>&quot;Swipe Transaction&quot;</td><td>59935</td><td>&quot;Beulah&quot;</td><td>&quot;ND&quot;</td><td>58523</td><td>5499</td><td>null</td><td>&quot;Miscellaneous Food Stores&quot;</td><td>-77.0</td><td>0.0</td><td>0</td></tr><tr><td>7475328</td><td>2010-01-01</td><td>561</td><td>4575</td><td>14.57</td><td>&quot;Swipe Transaction&quot;</td><td>67570</td><td>&quot;Bettendorf&quot;</td><td>&quot;IA&quot;</td><td>52722</td><td>5311</td><td>null</td><td>&quot;Department Stores&quot;</td><td>0.0</td><td>14.57</td><td>1</td></tr><tr><td>7475329</td><td>2010-01-01</td><td>1129</td><td>102</td><td>80.0</td><td>&quot;Swipe Transaction&quot;</td><td>27092</td><td>&quot;Vista&quot;</td><td>&quot;CA&quot;</td><td>92084</td><td>4829</td><td>null</td><td>&quot;Money Transfer&quot;</td><td>0.0</td><td>80.0</td><td>1</td></tr><tr><td>7475331</td><td>2010-01-01</td><td>430</td><td>2860</td><td>200.0</td><td>&quot;Swipe Transaction&quot;</td><td>27092</td><td>&quot;Crown Point&quot;</td><td>&quot;IN&quot;</td><td>46307</td><td>4829</td><td>null</td><td>&quot;Money Transfer&quot;</td><td>0.0</td><td>200.0</td><td>1</td></tr><tr><td>7475332</td><td>2010-01-01</td><td>848</td><td>3915</td><td>46.41</td><td>&quot;Swipe Transaction&quot;</td><td>13051</td><td>&quot;Harwood&quot;</td><td>&quot;MD&quot;</td><td>20776</td><td>5813</td><td>null</td><td>&quot;Drinking Places (Alcoholic Bev…</td><td>0.0</td><td>46.41</td><td>1</td></tr></tbody></table></div>"
      ],
      "text/plain": [
       "shape: (5, 16)\n",
       "┌─────────┬────────────┬───────────┬─────────┬───┬─────────────────────────────────┬───────┬────────┬─────────────┐\n",
       "│ id      ┆ date       ┆ client_id ┆ card_id ┆ … ┆ merchant_category               ┆ debit ┆ credit ┆ in_out_flag │\n",
       "│ ---     ┆ ---        ┆ ---       ┆ ---     ┆   ┆ ---                             ┆ ---   ┆ ---    ┆ ---         │\n",
       "│ i64     ┆ date       ┆ i64       ┆ i64     ┆   ┆ str                             ┆ f32   ┆ f32    ┆ i32         │\n",
       "╞═════════╪════════════╪═══════════╪═════════╪═══╪═════════════════════════════════╪═══════╪════════╪═════════════╡\n",
       "│ 7475327 ┆ 2010-01-01 ┆ 1556      ┆ 2972    ┆ … ┆ Miscellaneous Food Stores       ┆ -77.0 ┆ 0.0    ┆ 0           │\n",
       "│ 7475328 ┆ 2010-01-01 ┆ 561       ┆ 4575    ┆ … ┆ Department Stores               ┆ 0.0   ┆ 14.57  ┆ 1           │\n",
       "│ 7475329 ┆ 2010-01-01 ┆ 1129      ┆ 102     ┆ … ┆ Money Transfer                  ┆ 0.0   ┆ 80.0   ┆ 1           │\n",
       "│ 7475331 ┆ 2010-01-01 ┆ 430       ┆ 2860    ┆ … ┆ Money Transfer                  ┆ 0.0   ┆ 200.0  ┆ 1           │\n",
       "│ 7475332 ┆ 2010-01-01 ┆ 848       ┆ 3915    ┆ … ┆ Drinking Places (Alcoholic Bev… ┆ 0.0   ┆ 46.41  ┆ 1           │\n",
       "└─────────┴────────────┴───────────┴─────────┴───┴─────────────────────────────────┴───────┴────────┴─────────────┘"
      ]
     },
     "execution_count": 18,
     "metadata": {},
     "output_type": "execute_result"
    }
   ],
   "source": [
    "df.head()"
   ]
  },
  {
   "cell_type": "markdown",
   "id": "b3d5a666-f5e7-40cc-a66a-d2489961f83e",
   "metadata": {},
   "source": [
    "# Analysis"
   ]
  },
  {
   "cell_type": "markdown",
   "id": "20298c81-3c6a-41d1-8331-6f4c02713e67",
   "metadata": {},
   "source": [
    "## Show Pairplot"
   ]
  },
  {
   "cell_type": "raw",
   "id": "b58f6773-dc09-44be-964f-006126fe30f3",
   "metadata": {},
   "source": [
    "sns.pairplot(df.to_pandas(), hue='clusters' , palette='viridis')\n",
    "plt.show()"
   ]
  },
  {
   "cell_type": "markdown",
   "id": "f3c4b9a7-ff1a-42fa-b5b7-02695ba0dc56",
   "metadata": {},
   "source": [
    "### Show Distributions of payments in total"
   ]
  },
  {
   "cell_type": "code",
   "execution_count": 19,
   "id": "c6bcd824-64c4-4505-aba5-8e50d136d2f6",
   "metadata": {},
   "outputs": [
    {
     "data": {
      "text/html": [
       "<div><style>\n",
       ".dataframe > thead > tr,\n",
       ".dataframe > tbody > tr {\n",
       "  text-align: right;\n",
       "  white-space: pre-wrap;\n",
       "}\n",
       "</style>\n",
       "<small>shape: (1, 1)</small><table border=\"1\" class=\"dataframe\"><thead><tr><th>amount</th></tr><tr><td>f32</td></tr></thead><tbody><tr><td>-500.0</td></tr></tbody></table></div>"
      ],
      "text/plain": [
       "shape: (1, 1)\n",
       "┌────────┐\n",
       "│ amount │\n",
       "│ ---    │\n",
       "│ f32    │\n",
       "╞════════╡\n",
       "│ -500.0 │\n",
       "└────────┘"
      ]
     },
     "execution_count": 19,
     "metadata": {},
     "output_type": "execute_result"
    }
   ],
   "source": [
    "df.select(pl.col(\"amount\").min())"
   ]
  },
  {
   "cell_type": "code",
   "execution_count": 20,
   "id": "0d869b68-4026-480b-981e-3f8161d81b7f",
   "metadata": {},
   "outputs": [
    {
     "data": {
      "text/html": [
       "<div><style>\n",
       ".dataframe > thead > tr,\n",
       ".dataframe > tbody > tr {\n",
       "  text-align: right;\n",
       "  white-space: pre-wrap;\n",
       "}\n",
       "</style>\n",
       "<small>shape: (1, 1)</small><table border=\"1\" class=\"dataframe\"><thead><tr><th>amount</th></tr><tr><td>f32</td></tr></thead><tbody><tr><td>6820.200195</td></tr></tbody></table></div>"
      ],
      "text/plain": [
       "shape: (1, 1)\n",
       "┌─────────────┐\n",
       "│ amount      │\n",
       "│ ---         │\n",
       "│ f32         │\n",
       "╞═════════════╡\n",
       "│ 6820.200195 │\n",
       "└─────────────┘"
      ]
     },
     "execution_count": 20,
     "metadata": {},
     "output_type": "execute_result"
    }
   ],
   "source": [
    "df.select(pl.col(\"amount\").max())"
   ]
  },
  {
   "cell_type": "code",
   "execution_count": 21,
   "id": "7458e4b4-65b4-41ad-b4c0-7f3f624b7b8f",
   "metadata": {},
   "outputs": [
    {
     "name": "stdout",
     "output_type": "stream",
     "text": [
      "shape: (13_305_915, 1)\n",
      "┌───────────┐\n",
      "│ amount    │\n",
      "│ ---       │\n",
      "│ f32       │\n",
      "╞═══════════╡\n",
      "│ -77.0     │\n",
      "│ 14.57     │\n",
      "│ 80.0      │\n",
      "│ 200.0     │\n",
      "│ 46.41     │\n",
      "│ …         │\n",
      "│ 1.11      │\n",
      "│ 12.8      │\n",
      "│ 40.439999 │\n",
      "│ 4.0       │\n",
      "│ 12.88     │\n",
      "└───────────┘\n"
     ]
    }
   ],
   "source": [
    "print(df.select(pl.col(\"amount\")))"
   ]
  },
  {
   "cell_type": "code",
   "execution_count": 22,
   "id": "720e88d7-afcc-41e8-b02a-cc6e48d93571",
   "metadata": {},
   "outputs": [
    {
     "name": "stdout",
     "output_type": "stream",
     "text": [
      "shape: (1, 1)\n",
      "┌───────────┐\n",
      "│ amount    │\n",
      "│ ---       │\n",
      "│ f32       │\n",
      "╞═══════════╡\n",
      "│ 81.655746 │\n",
      "└───────────┘\n"
     ]
    }
   ],
   "source": [
    "print(df.select(pl.col(\"amount\").std()))"
   ]
  },
  {
   "cell_type": "code",
   "execution_count": 23,
   "id": "613d6578-fec8-48f2-b318-fc6aba4a7de7",
   "metadata": {},
   "outputs": [
    {
     "data": {
      "text/plain": [
       "<Axes: xlabel='amount'>"
      ]
     },
     "execution_count": 23,
     "metadata": {},
     "output_type": "execute_result"
    },
    {
     "data": {
      "image/png": "[encoded data removed]",
      "text/plain": [
       "<Figure size 640x480 with 1 Axes>"
      ]
     },
     "metadata": {},
     "output_type": "display_data"
    }
   ],
   "source": [
    "sns.boxplot(df , x=\"amount\" , showfliers=False)"
   ]
  },
  {
   "cell_type": "code",
   "execution_count": 42,
   "id": "46d18480-aed6-4182-930a-5c3a2bf36ab4",
   "metadata": {},
   "outputs": [
    {
     "data": {
      "text/plain": [
       "<seaborn.axisgrid.FacetGrid at 0x183565d42e0>"
      ]
     },
     "execution_count": 42,
     "metadata": {},
     "output_type": "execute_result"
    },
    {
     "data": {
      "image/png": "[encoded data removed]",
      "text/plain": [
       "<Figure size 500x500 with 1 Axes>"
      ]
     },
     "metadata": {},
     "output_type": "display_data"
    }
   ],
   "source": [
    "sns.displot(df , x=\"amount\" , kde=\"True\")"
   ]
  },
  {
   "cell_type": "markdown",
   "id": "4eb86b82-7622-4943-87fc-26a599d8fbea",
   "metadata": {},
   "source": [
    "## Split Data into eacg chip_usage"
   ]
  },
  {
   "cell_type": "code",
   "execution_count": 25,
   "id": "aa3004cf-99f5-4288-80f1-75c95cd60a3a",
   "metadata": {},
   "outputs": [],
   "source": [
    "df_chip_usage = (\n",
    "    df.group_by([\"date\", \"use_chip\"]).agg([\n",
    "        pl.col(\"debit\").sum().alias(\"debit\"),\n",
    "        pl.col(\"credit\").sum().alias(\"credit\")\n",
    "    ])\n",
    ")"
   ]
  },
  {
   "cell_type": "code",
   "execution_count": 26,
   "id": "827175e7-148a-4e5d-a1bd-e4a294462bcb",
   "metadata": {},
   "outputs": [
    {
     "name": "stdout",
     "output_type": "stream",
     "text": [
      "shape: (8_946, 4)\n",
      "┌────────────┬────────────────────┬──────────┬───────────────┐\n",
      "│ date       ┆ use_chip           ┆ debit    ┆ credit        │\n",
      "│ ---        ┆ ---                ┆ ---      ┆ ---           │\n",
      "│ date       ┆ str                ┆ f32      ┆ f32           │\n",
      "╞════════════╪════════════════════╪══════════╪═══════════════╡\n",
      "│ 2012-07-12 ┆ Online Transaction ┆ -470.0   ┆ 23290.535156  │\n",
      "│ 2015-11-05 ┆ Online Transaction ┆ -363.0   ┆ 26540.630859  │\n",
      "│ 2019-05-21 ┆ Chip Transaction   ┆ -13294.0 ┆ 121313.523438 │\n",
      "│ 2011-09-17 ┆ Online Transaction ┆ -1225.0  ┆ 25473.505859  │\n",
      "│ 2013-11-15 ┆ Swipe Transaction  ┆ -16505.0 ┆ 155738.46875  │\n",
      "│ …          ┆ …                  ┆ …        ┆ …             │\n",
      "│ 2013-12-22 ┆ Online Transaction ┆ 0.0      ┆ 23126.673828  │\n",
      "│ 2016-08-21 ┆ Swipe Transaction  ┆ -2877.0  ┆ 25818.169922  │\n",
      "│ 2010-07-14 ┆ Online Transaction ┆ -328.0   ┆ 18980.210938  │\n",
      "│ 2015-10-23 ┆ Swipe Transaction  ┆ -6956.0  ┆ 31475.837891  │\n",
      "│ 2016-11-06 ┆ Online Transaction ┆ -712.0   ┆ 31135.203125  │\n",
      "└────────────┴────────────────────┴──────────┴───────────────┘\n"
     ]
    }
   ],
   "source": [
    "print(df_chip_usage)"
   ]
  },
  {
   "cell_type": "markdown",
   "id": "7ad35242-27be-42f3-9d09-9f791cf7e7a4",
   "metadata": {},
   "source": [
    "### Calculate Metrics"
   ]
  },
  {
   "cell_type": "code",
   "execution_count": 27,
   "id": "9e7d4c85-ffac-406f-8587-67d1b9cfb150",
   "metadata": {},
   "outputs": [],
   "source": [
    "# Location\n",
    "df_location = df_chip_usage.select(pl.mean(\"debit\").alias(\"mean_debit\"), pl.mean(\"credit\").alias(\"mean_credit\"), pl.median(\"debit\").alias(\"median_debit\"), pl.median(\"credit\").alias(\"median_credit\"))"
   ]
  },
  {
   "cell_type": "code",
   "execution_count": 28,
   "id": "8abd4775-ebb1-4c95-b786-2a30b4296644",
   "metadata": {},
   "outputs": [
    {
     "data": {
      "text/html": [
       "<div><style>\n",
       ".dataframe > thead > tr,\n",
       ".dataframe > tbody > tr {\n",
       "  text-align: right;\n",
       "  white-space: pre-wrap;\n",
       "}\n",
       "</style>\n",
       "<small>shape: (1, 4)</small><table border=\"1\" class=\"dataframe\"><thead><tr><th>mean_debit</th><th>mean_credit</th><th>median_debit</th><th>median_credit</th></tr><tr><td>f32</td><td>f32</td><td>f32</td><td>f32</td></tr></thead><tbody><tr><td>-7547.400391</td><td>71468.203125</td><td>-3664.5</td><td>30574.830078</td></tr></tbody></table></div>"
      ],
      "text/plain": [
       "shape: (1, 4)\n",
       "┌──────────────┬──────────────┬──────────────┬───────────────┐\n",
       "│ mean_debit   ┆ mean_credit  ┆ median_debit ┆ median_credit │\n",
       "│ ---          ┆ ---          ┆ ---          ┆ ---           │\n",
       "│ f32          ┆ f32          ┆ f32          ┆ f32           │\n",
       "╞══════════════╪══════════════╪══════════════╪═══════════════╡\n",
       "│ -7547.400391 ┆ 71468.203125 ┆ -3664.5      ┆ 30574.830078  │\n",
       "└──────────────┴──────────────┴──────────────┴───────────────┘"
      ]
     },
     "execution_count": 28,
     "metadata": {},
     "output_type": "execute_result"
    }
   ],
   "source": [
    "df_location.head()"
   ]
  },
  {
   "cell_type": "code",
   "execution_count": 29,
   "id": "581e456e-9df3-49eb-8666-28a15bc91e54",
   "metadata": {},
   "outputs": [
    {
     "data": {
      "text/html": [
       "<div><style>\n",
       ".dataframe > thead > tr,\n",
       ".dataframe > tbody > tr {\n",
       "  text-align: right;\n",
       "  white-space: pre-wrap;\n",
       "}\n",
       "</style>\n",
       "<small>shape: (1, 1)</small><table border=\"1\" class=\"dataframe\"><thead><tr><th>debit</th></tr><tr><td>f32</td></tr></thead><tbody><tr><td>0.0</td></tr></tbody></table></div>"
      ],
      "text/plain": [
       "shape: (1, 1)\n",
       "┌───────┐\n",
       "│ debit │\n",
       "│ ---   │\n",
       "│ f32   │\n",
       "╞═══════╡\n",
       "│ 0.0   │\n",
       "└───────┘"
      ]
     },
     "execution_count": 29,
     "metadata": {},
     "output_type": "execute_result"
    }
   ],
   "source": [
    "chip_usage_debit_mode = df_chip_usage.select(pl.col(\"debit\").mode())\n",
    "chip_usage_debit_mode.head()"
   ]
  },
  {
   "cell_type": "code",
   "execution_count": 30,
   "id": "5781c21c-b285-456f-8cf1-4755a6701f16",
   "metadata": {},
   "outputs": [
    {
     "data": {
      "text/html": [
       "<div><style>\n",
       ".dataframe > thead > tr,\n",
       ".dataframe > tbody > tr {\n",
       "  text-align: right;\n",
       "  white-space: pre-wrap;\n",
       "}\n",
       "</style>\n",
       "<small>shape: (3, 1)</small><table border=\"1\" class=\"dataframe\"><thead><tr><th>credit</th></tr><tr><td>f32</td></tr></thead><tbody><tr><td>22023.351562</td></tr><tr><td>26328.373047</td></tr><tr><td>20769.064453</td></tr></tbody></table></div>"
      ],
      "text/plain": [
       "shape: (3, 1)\n",
       "┌──────────────┐\n",
       "│ credit       │\n",
       "│ ---          │\n",
       "│ f32          │\n",
       "╞══════════════╡\n",
       "│ 22023.351562 │\n",
       "│ 26328.373047 │\n",
       "│ 20769.064453 │\n",
       "└──────────────┘"
      ]
     },
     "execution_count": 30,
     "metadata": {},
     "output_type": "execute_result"
    }
   ],
   "source": [
    "chip_usage_credit_mode = df_chip_usage.select(pl.col(\"credit\").mode())\n",
    "chip_usage_credit_mode"
   ]
  },
  {
   "cell_type": "code",
   "execution_count": 31,
   "id": "d0a19f96-73ae-4d9d-b2a3-06afc2fa96e6",
   "metadata": {},
   "outputs": [
    {
     "name": "stdout",
     "output_type": "stream",
     "text": [
      "shape: (1, 4)\n",
      "┌─────────────┬──────────────┬─────────────┬────────────┐\n",
      "│ std_debit   ┆ std_credit   ┆ var_debit   ┆ var_credit │\n",
      "│ ---         ┆ ---          ┆ ---         ┆ ---        │\n",
      "│ f32         ┆ f32          ┆ f32         ┆ f32        │\n",
      "╞═════════════╪══════════════╪═════════════╪════════════╡\n",
      "│ 7783.574219 ┆ 55215.542969 ┆ 6.0584024e7 ┆ 3.0488e9   │\n",
      "└─────────────┴──────────────┴─────────────┴────────────┘\n"
     ]
    }
   ],
   "source": [
    "# Standard Deviation and Variance\n",
    "chip_usage_var_std = df_chip_usage.select(pl.col(\"debit\").std().alias(\"std_debit\") , pl.col(\"credit\").std().alias(\"std_credit\") , pl.var(\"debit\").alias(\"var_debit\") , pl.var(\"credit\").alias(\"var_credit\"))\n",
    "print(chip_usage_var_std)"
   ]
  },
  {
   "cell_type": "markdown",
   "id": "c164673c-f5a3-4593-a2e6-00be8ab4d9bc",
   "metadata": {},
   "source": [
    "### Show Distributions of credit/debit per day"
   ]
  },
  {
   "cell_type": "code",
   "execution_count": 32,
   "id": "cd6830ec-2ff0-4118-8c26-82507efd29ca",
   "metadata": {},
   "outputs": [
    {
     "data": {
      "text/plain": [
       "<seaborn.axisgrid.FacetGrid at 0x1839c8ff550>"
      ]
     },
     "execution_count": 32,
     "metadata": {},
     "output_type": "execute_result"
    },
    {
     "data": {
      "image/png": "[encoded data removed]",
      "text/plain": [
       "<Figure size 500x500 with 1 Axes>"
      ]
     },
     "metadata": {},
     "output_type": "display_data"
    }
   ],
   "source": [
    "sns.displot(df_chip_usage , x=\"credit\")"
   ]
  },
  {
   "cell_type": "code",
   "execution_count": 33,
   "id": "eb20519e-a908-4272-bf59-77d93fc19faa",
   "metadata": {},
   "outputs": [
    {
     "name": "stdout",
     "output_type": "stream",
     "text": [
      "shape: (7_997, 4)\n",
      "┌────────────┬────────────────────┬──────────┬───────────────┐\n",
      "│ date       ┆ use_chip           ┆ debit    ┆ credit        │\n",
      "│ ---        ┆ ---                ┆ ---      ┆ ---           │\n",
      "│ date       ┆ str                ┆ f32      ┆ f32           │\n",
      "╞════════════╪════════════════════╪══════════╪═══════════════╡\n",
      "│ 2012-07-12 ┆ Online Transaction ┆ -470.0   ┆ 23290.535156  │\n",
      "│ 2015-11-05 ┆ Online Transaction ┆ -363.0   ┆ 26540.630859  │\n",
      "│ 2019-05-21 ┆ Chip Transaction   ┆ -13294.0 ┆ 121313.523438 │\n",
      "│ 2011-09-17 ┆ Online Transaction ┆ -1225.0  ┆ 25473.505859  │\n",
      "│ 2013-11-15 ┆ Swipe Transaction  ┆ -16505.0 ┆ 155738.46875  │\n",
      "│ …          ┆ …                  ┆ …        ┆ …             │\n",
      "│ 2015-06-17 ┆ Swipe Transaction  ┆ -3505.0  ┆ 30020.984375  │\n",
      "│ 2016-08-21 ┆ Swipe Transaction  ┆ -2877.0  ┆ 25818.169922  │\n",
      "│ 2010-07-14 ┆ Online Transaction ┆ -328.0   ┆ 18980.210938  │\n",
      "│ 2015-10-23 ┆ Swipe Transaction  ┆ -6956.0  ┆ 31475.837891  │\n",
      "│ 2016-11-06 ┆ Online Transaction ┆ -712.0   ┆ 31135.203125  │\n",
      "└────────────┴────────────────────┴──────────┴───────────────┘\n"
     ]
    }
   ],
   "source": [
    "print(df_chip_usage.filter(pl.col(\"debit\") < 0))"
   ]
  },
  {
   "cell_type": "code",
   "execution_count": 34,
   "id": "f0963044-f719-4a93-a457-06d1c2498ad6",
   "metadata": {},
   "outputs": [
    {
     "data": {
      "text/plain": [
       "<seaborn.axisgrid.FacetGrid at 0x1839c8ffb50>"
      ]
     },
     "execution_count": 34,
     "metadata": {},
     "output_type": "execute_result"
    },
    {
     "data": {
      "image/png": "[encoded data removed]",
      "text/plain": [
       "<Figure size 500x500 with 1 Axes>"
      ]
     },
     "metadata": {},
     "output_type": "display_data"
    }
   ],
   "source": [
    "sns.displot(df_chip_usage.filter(pl.col(\"debit\") < 0) , x=\"debit\")"
   ]
  },
  {
   "cell_type": "markdown",
   "id": "7cf81f5b-f038-4f7b-ac41-bbfaeb9577d8",
   "metadata": {},
   "source": [
    "## Count the payments per day"
   ]
  },
  {
   "cell_type": "code",
   "execution_count": 35,
   "id": "ab28cf82-e070-4a4f-911f-6cafb21bf769",
   "metadata": {},
   "outputs": [
    {
     "data": {
      "text/html": [
       "<div><style>\n",
       ".dataframe > thead > tr,\n",
       ".dataframe > tbody > tr {\n",
       "  text-align: right;\n",
       "  white-space: pre-wrap;\n",
       "}\n",
       "</style>\n",
       "<small>shape: (1, 16)</small><table border=\"1\" class=\"dataframe\"><thead><tr><th>id</th><th>date</th><th>client_id</th><th>card_id</th><th>amount</th><th>use_chip</th><th>merchant_id</th><th>merchant_city</th><th>merchant_state</th><th>zip</th><th>mcc</th><th>errors</th><th>merchant_category</th><th>debit</th><th>credit</th><th>in_out_flag</th></tr><tr><td>u32</td><td>u32</td><td>u32</td><td>u32</td><td>u32</td><td>u32</td><td>u32</td><td>u32</td><td>u32</td><td>u32</td><td>u32</td><td>u32</td><td>u32</td><td>u32</td><td>u32</td><td>u32</td></tr></thead><tbody><tr><td>13305915</td><td>3591</td><td>1219</td><td>4071</td><td>81160</td><td>3</td><td>74831</td><td>12492</td><td>200</td><td>25257</td><td>109</td><td>23</td><td>108</td><td>598</td><td>80563</td><td>2</td></tr></tbody></table></div>"
      ],
      "text/plain": [
       "shape: (1, 16)\n",
       "┌──────────┬──────┬───────────┬─────────┬───┬───────────────────┬───────┬────────┬─────────────┐\n",
       "│ id       ┆ date ┆ client_id ┆ card_id ┆ … ┆ merchant_category ┆ debit ┆ credit ┆ in_out_flag │\n",
       "│ ---      ┆ ---  ┆ ---       ┆ ---     ┆   ┆ ---               ┆ ---   ┆ ---    ┆ ---         │\n",
       "│ u32      ┆ u32  ┆ u32       ┆ u32     ┆   ┆ u32               ┆ u32   ┆ u32    ┆ u32         │\n",
       "╞══════════╪══════╪═══════════╪═════════╪═══╪═══════════════════╪═══════╪════════╪═════════════╡\n",
       "│ 13305915 ┆ 3591 ┆ 1219      ┆ 4071    ┆ … ┆ 108               ┆ 598   ┆ 80563  ┆ 2           │\n",
       "└──────────┴──────┴───────────┴─────────┴───┴───────────────────┴───────┴────────┴─────────────┘"
      ]
     },
     "execution_count": 35,
     "metadata": {},
     "output_type": "execute_result"
    }
   ],
   "source": [
    "df_nunique = df.select(pl.all().n_unique())\n",
    "df_nunique.head()"
   ]
  },
  {
   "cell_type": "code",
   "execution_count": 36,
   "id": "aba9f5f5-93c2-4aa8-a1e4-55722f6079bc",
   "metadata": {},
   "outputs": [],
   "source": [
    "df_count_per_day = df.with_columns(\n",
    "    pl.lit(1).alias(\"counter\")\n",
    ")"
   ]
  },
  {
   "cell_type": "code",
   "execution_count": 37,
   "id": "4be31a23-ca35-448d-8aa7-fba1d67bcbb2",
   "metadata": {},
   "outputs": [
    {
     "data": {
      "text/html": [
       "<div><style>\n",
       ".dataframe > thead > tr,\n",
       ".dataframe > tbody > tr {\n",
       "  text-align: right;\n",
       "  white-space: pre-wrap;\n",
       "}\n",
       "</style>\n",
       "<small>shape: (5, 17)</small><table border=\"1\" class=\"dataframe\"><thead><tr><th>id</th><th>date</th><th>client_id</th><th>card_id</th><th>amount</th><th>use_chip</th><th>merchant_id</th><th>merchant_city</th><th>merchant_state</th><th>zip</th><th>mcc</th><th>errors</th><th>merchant_category</th><th>debit</th><th>credit</th><th>in_out_flag</th><th>counter</th></tr><tr><td>i64</td><td>date</td><td>i64</td><td>i64</td><td>f32</td><td>str</td><td>i64</td><td>str</td><td>str</td><td>i64</td><td>i64</td><td>str</td><td>str</td><td>f32</td><td>f32</td><td>i32</td><td>i32</td></tr></thead><tbody><tr><td>7475327</td><td>2010-01-01</td><td>1556</td><td>2972</td><td>-77.0</td><td>&quot;Swipe Transaction&quot;</td><td>59935</td><td>&quot;Beulah&quot;</td><td>&quot;ND&quot;</td><td>58523</td><td>5499</td><td>null</td><td>&quot;Miscellaneous Food Stores&quot;</td><td>-77.0</td><td>0.0</td><td>0</td><td>1</td></tr><tr><td>7475328</td><td>2010-01-01</td><td>561</td><td>4575</td><td>14.57</td><td>&quot;Swipe Transaction&quot;</td><td>67570</td><td>&quot;Bettendorf&quot;</td><td>&quot;IA&quot;</td><td>52722</td><td>5311</td><td>null</td><td>&quot;Department Stores&quot;</td><td>0.0</td><td>14.57</td><td>1</td><td>1</td></tr><tr><td>7475329</td><td>2010-01-01</td><td>1129</td><td>102</td><td>80.0</td><td>&quot;Swipe Transaction&quot;</td><td>27092</td><td>&quot;Vista&quot;</td><td>&quot;CA&quot;</td><td>92084</td><td>4829</td><td>null</td><td>&quot;Money Transfer&quot;</td><td>0.0</td><td>80.0</td><td>1</td><td>1</td></tr><tr><td>7475331</td><td>2010-01-01</td><td>430</td><td>2860</td><td>200.0</td><td>&quot;Swipe Transaction&quot;</td><td>27092</td><td>&quot;Crown Point&quot;</td><td>&quot;IN&quot;</td><td>46307</td><td>4829</td><td>null</td><td>&quot;Money Transfer&quot;</td><td>0.0</td><td>200.0</td><td>1</td><td>1</td></tr><tr><td>7475332</td><td>2010-01-01</td><td>848</td><td>3915</td><td>46.41</td><td>&quot;Swipe Transaction&quot;</td><td>13051</td><td>&quot;Harwood&quot;</td><td>&quot;MD&quot;</td><td>20776</td><td>5813</td><td>null</td><td>&quot;Drinking Places (Alcoholic Bev…</td><td>0.0</td><td>46.41</td><td>1</td><td>1</td></tr></tbody></table></div>"
      ],
      "text/plain": [
       "shape: (5, 17)\n",
       "┌─────────┬────────────┬───────────┬─────────┬───┬───────┬────────┬─────────────┬─────────┐\n",
       "│ id      ┆ date       ┆ client_id ┆ card_id ┆ … ┆ debit ┆ credit ┆ in_out_flag ┆ counter │\n",
       "│ ---     ┆ ---        ┆ ---       ┆ ---     ┆   ┆ ---   ┆ ---    ┆ ---         ┆ ---     │\n",
       "│ i64     ┆ date       ┆ i64       ┆ i64     ┆   ┆ f32   ┆ f32    ┆ i32         ┆ i32     │\n",
       "╞═════════╪════════════╪═══════════╪═════════╪═══╪═══════╪════════╪═════════════╪═════════╡\n",
       "│ 7475327 ┆ 2010-01-01 ┆ 1556      ┆ 2972    ┆ … ┆ -77.0 ┆ 0.0    ┆ 0           ┆ 1       │\n",
       "│ 7475328 ┆ 2010-01-01 ┆ 561       ┆ 4575    ┆ … ┆ 0.0   ┆ 14.57  ┆ 1           ┆ 1       │\n",
       "│ 7475329 ┆ 2010-01-01 ┆ 1129      ┆ 102     ┆ … ┆ 0.0   ┆ 80.0   ┆ 1           ┆ 1       │\n",
       "│ 7475331 ┆ 2010-01-01 ┆ 430       ┆ 2860    ┆ … ┆ 0.0   ┆ 200.0  ┆ 1           ┆ 1       │\n",
       "│ 7475332 ┆ 2010-01-01 ┆ 848       ┆ 3915    ┆ … ┆ 0.0   ┆ 46.41  ┆ 1           ┆ 1       │\n",
       "└─────────┴────────────┴───────────┴─────────┴───┴───────┴────────┴─────────────┴─────────┘"
      ]
     },
     "execution_count": 37,
     "metadata": {},
     "output_type": "execute_result"
    }
   ],
   "source": [
    "df_count_per_day.head()"
   ]
  },
  {
   "cell_type": "code",
   "execution_count": 38,
   "id": "2f8609a0-e642-402c-a06a-81dd6ce0a2a2",
   "metadata": {},
   "outputs": [],
   "source": [
    "df_count_per_day = df_count_per_day.with_columns(\n",
    "    pl.col(\"date\").dt.date().alias(\"date\")\n",
    ")"
   ]
  },
  {
   "cell_type": "code",
   "execution_count": 39,
   "id": "2f383c46-e7e1-4f66-8b21-6cbbbde01ddd",
   "metadata": {},
   "outputs": [
    {
     "data": {
      "text/html": [
       "<div><style>\n",
       ".dataframe > thead > tr,\n",
       ".dataframe > tbody > tr {\n",
       "  text-align: right;\n",
       "  white-space: pre-wrap;\n",
       "}\n",
       "</style>\n",
       "<small>shape: (5, 17)</small><table border=\"1\" class=\"dataframe\"><thead><tr><th>id</th><th>date</th><th>client_id</th><th>card_id</th><th>amount</th><th>use_chip</th><th>merchant_id</th><th>merchant_city</th><th>merchant_state</th><th>zip</th><th>mcc</th><th>errors</th><th>merchant_category</th><th>debit</th><th>credit</th><th>in_out_flag</th><th>counter</th></tr><tr><td>i64</td><td>date</td><td>i64</td><td>i64</td><td>f32</td><td>str</td><td>i64</td><td>str</td><td>str</td><td>i64</td><td>i64</td><td>str</td><td>str</td><td>f32</td><td>f32</td><td>i32</td><td>i32</td></tr></thead><tbody><tr><td>7475327</td><td>2010-01-01</td><td>1556</td><td>2972</td><td>-77.0</td><td>&quot;Swipe Transaction&quot;</td><td>59935</td><td>&quot;Beulah&quot;</td><td>&quot;ND&quot;</td><td>58523</td><td>5499</td><td>null</td><td>&quot;Miscellaneous Food Stores&quot;</td><td>-77.0</td><td>0.0</td><td>0</td><td>1</td></tr><tr><td>7475328</td><td>2010-01-01</td><td>561</td><td>4575</td><td>14.57</td><td>&quot;Swipe Transaction&quot;</td><td>67570</td><td>&quot;Bettendorf&quot;</td><td>&quot;IA&quot;</td><td>52722</td><td>5311</td><td>null</td><td>&quot;Department Stores&quot;</td><td>0.0</td><td>14.57</td><td>1</td><td>1</td></tr><tr><td>7475329</td><td>2010-01-01</td><td>1129</td><td>102</td><td>80.0</td><td>&quot;Swipe Transaction&quot;</td><td>27092</td><td>&quot;Vista&quot;</td><td>&quot;CA&quot;</td><td>92084</td><td>4829</td><td>null</td><td>&quot;Money Transfer&quot;</td><td>0.0</td><td>80.0</td><td>1</td><td>1</td></tr><tr><td>7475331</td><td>2010-01-01</td><td>430</td><td>2860</td><td>200.0</td><td>&quot;Swipe Transaction&quot;</td><td>27092</td><td>&quot;Crown Point&quot;</td><td>&quot;IN&quot;</td><td>46307</td><td>4829</td><td>null</td><td>&quot;Money Transfer&quot;</td><td>0.0</td><td>200.0</td><td>1</td><td>1</td></tr><tr><td>7475332</td><td>2010-01-01</td><td>848</td><td>3915</td><td>46.41</td><td>&quot;Swipe Transaction&quot;</td><td>13051</td><td>&quot;Harwood&quot;</td><td>&quot;MD&quot;</td><td>20776</td><td>5813</td><td>null</td><td>&quot;Drinking Places (Alcoholic Bev…</td><td>0.0</td><td>46.41</td><td>1</td><td>1</td></tr></tbody></table></div>"
      ],
      "text/plain": [
       "shape: (5, 17)\n",
       "┌─────────┬────────────┬───────────┬─────────┬───┬───────┬────────┬─────────────┬─────────┐\n",
       "│ id      ┆ date       ┆ client_id ┆ card_id ┆ … ┆ debit ┆ credit ┆ in_out_flag ┆ counter │\n",
       "│ ---     ┆ ---        ┆ ---       ┆ ---     ┆   ┆ ---   ┆ ---    ┆ ---         ┆ ---     │\n",
       "│ i64     ┆ date       ┆ i64       ┆ i64     ┆   ┆ f32   ┆ f32    ┆ i32         ┆ i32     │\n",
       "╞═════════╪════════════╪═══════════╪═════════╪═══╪═══════╪════════╪═════════════╪═════════╡\n",
       "│ 7475327 ┆ 2010-01-01 ┆ 1556      ┆ 2972    ┆ … ┆ -77.0 ┆ 0.0    ┆ 0           ┆ 1       │\n",
       "│ 7475328 ┆ 2010-01-01 ┆ 561       ┆ 4575    ┆ … ┆ 0.0   ┆ 14.57  ┆ 1           ┆ 1       │\n",
       "│ 7475329 ┆ 2010-01-01 ┆ 1129      ┆ 102     ┆ … ┆ 0.0   ┆ 80.0   ┆ 1           ┆ 1       │\n",
       "│ 7475331 ┆ 2010-01-01 ┆ 430       ┆ 2860    ┆ … ┆ 0.0   ┆ 200.0  ┆ 1           ┆ 1       │\n",
       "│ 7475332 ┆ 2010-01-01 ┆ 848       ┆ 3915    ┆ … ┆ 0.0   ┆ 46.41  ┆ 1           ┆ 1       │\n",
       "└─────────┴────────────┴───────────┴─────────┴───┴───────┴────────┴─────────────┴─────────┘"
      ]
     },
     "execution_count": 39,
     "metadata": {},
     "output_type": "execute_result"
    }
   ],
   "source": [
    "df_count_per_day.head()"
   ]
  },
  {
   "cell_type": "code",
   "execution_count": 40,
   "id": "a86e93fe-2af2-4da1-a35d-a369810e2bb3",
   "metadata": {},
   "outputs": [
    {
     "data": {
      "text/html": [
       "<div><style>\n",
       ".dataframe > thead > tr,\n",
       ".dataframe > tbody > tr {\n",
       "  text-align: right;\n",
       "  white-space: pre-wrap;\n",
       "}\n",
       "</style>\n",
       "<small>shape: (3_591, 2)</small><table border=\"1\" class=\"dataframe\"><thead><tr><th>date</th><th>counter</th></tr><tr><td>date</td><td>i32</td></tr></thead><tbody><tr><td>2014-11-28</td><td>3837</td></tr><tr><td>2019-07-28</td><td>3967</td></tr><tr><td>2010-03-16</td><td>3397</td></tr><tr><td>2012-10-03</td><td>3639</td></tr><tr><td>2016-04-23</td><td>3500</td></tr><tr><td>&hellip;</td><td>&hellip;</td></tr><tr><td>2017-05-09</td><td>3879</td></tr><tr><td>2014-10-20</td><td>3776</td></tr><tr><td>2011-12-28</td><td>3627</td></tr><tr><td>2010-07-19</td><td>3479</td></tr><tr><td>2010-03-07</td><td>3392</td></tr></tbody></table></div>"
      ],
      "text/plain": [
       "shape: (3_591, 2)\n",
       "┌────────────┬─────────┐\n",
       "│ date       ┆ counter │\n",
       "│ ---        ┆ ---     │\n",
       "│ date       ┆ i32     │\n",
       "╞════════════╪═════════╡\n",
       "│ 2014-11-28 ┆ 3837    │\n",
       "│ 2019-07-28 ┆ 3967    │\n",
       "│ 2010-03-16 ┆ 3397    │\n",
       "│ 2012-10-03 ┆ 3639    │\n",
       "│ 2016-04-23 ┆ 3500    │\n",
       "│ …          ┆ …       │\n",
       "│ 2017-05-09 ┆ 3879    │\n",
       "│ 2014-10-20 ┆ 3776    │\n",
       "│ 2011-12-28 ┆ 3627    │\n",
       "│ 2010-07-19 ┆ 3479    │\n",
       "│ 2010-03-07 ┆ 3392    │\n",
       "└────────────┴─────────┘"
      ]
     },
     "execution_count": 40,
     "metadata": {},
     "output_type": "execute_result"
    }
   ],
   "source": [
    "df_count_per_day.group_by(\"date\").agg(pl.col(\"counter\").sum())"
   ]
  },
  {
   "cell_type": "code",
   "execution_count": 41,
   "id": "b9ee9533-08c7-4662-b99e-29c586211804",
   "metadata": {},
   "outputs": [
    {
     "name": "stdout",
     "output_type": "stream",
     "text": [
      "shape: (13_305_915, 17)\n",
      "┌──────────┬────────────┬───────────┬─────────┬───┬───────┬───────────┬─────────────┬─────────┐\n",
      "│ id       ┆ date       ┆ client_id ┆ card_id ┆ … ┆ debit ┆ credit    ┆ in_out_flag ┆ counter │\n",
      "│ ---      ┆ ---        ┆ ---       ┆ ---     ┆   ┆ ---   ┆ ---       ┆ ---         ┆ ---     │\n",
      "│ i64      ┆ date       ┆ i64       ┆ i64     ┆   ┆ f32   ┆ f32       ┆ i32         ┆ i32     │\n",
      "╞══════════╪════════════╪═══════════╪═════════╪═══╪═══════╪═══════════╪═════════════╪═════════╡\n",
      "│ 7475327  ┆ 2010-01-01 ┆ 1556      ┆ 2972    ┆ … ┆ -77.0 ┆ 0.0       ┆ 0           ┆ 1       │\n",
      "│ 7475328  ┆ 2010-01-01 ┆ 561       ┆ 4575    ┆ … ┆ 0.0   ┆ 14.57     ┆ 1           ┆ 1       │\n",
      "│ 7475329  ┆ 2010-01-01 ┆ 1129      ┆ 102     ┆ … ┆ 0.0   ┆ 80.0      ┆ 1           ┆ 1       │\n",
      "│ 7475331  ┆ 2010-01-01 ┆ 430       ┆ 2860    ┆ … ┆ 0.0   ┆ 200.0     ┆ 1           ┆ 1       │\n",
      "│ 7475332  ┆ 2010-01-01 ┆ 848       ┆ 3915    ┆ … ┆ 0.0   ┆ 46.41     ┆ 1           ┆ 1       │\n",
      "│ …        ┆ …          ┆ …         ┆ …       ┆ … ┆ …     ┆ …         ┆ …           ┆ …       │\n",
      "│ 23761868 ┆ 2019-10-31 ┆ 1718      ┆ 2379    ┆ … ┆ 0.0   ┆ 1.11      ┆ 1           ┆ 1       │\n",
      "│ 23761869 ┆ 2019-10-31 ┆ 1766      ┆ 2066    ┆ … ┆ 0.0   ┆ 12.8      ┆ 1           ┆ 1       │\n",
      "│ 23761870 ┆ 2019-10-31 ┆ 199       ┆ 1031    ┆ … ┆ 0.0   ┆ 40.439999 ┆ 1           ┆ 1       │\n",
      "│ 23761873 ┆ 2019-10-31 ┆ 1986      ┆ 5443    ┆ … ┆ 0.0   ┆ 4.0       ┆ 1           ┆ 1       │\n",
      "│ 23761874 ┆ 2019-10-31 ┆ 489       ┆ 5697    ┆ … ┆ 0.0   ┆ 12.88     ┆ 1           ┆ 1       │\n",
      "└──────────┴────────────┴───────────┴─────────┴───┴───────┴───────────┴─────────────┴─────────┘\n"
     ]
    }
   ],
   "source": [
    "print(df_count_per_day)"
   ]
  }
 ],
 "metadata": {
  "kernelspec": {
   "display_name": "Python 3 (ipykernel)",
   "language": "python",
   "name": "python3"
  },
  "language_info": {
   "codemirror_mode": {
    "name": "ipython",
    "version": 3
   },
   "file_extension": ".py",
   "mimetype": "text/x-python",
   "name": "python",
   "nbconvert_exporter": "python",
   "pygments_lexer": "ipython3",
   "version": "3.10.14"
  }
 },
 "nbformat": 4,
 "nbformat_minor": 5
}
