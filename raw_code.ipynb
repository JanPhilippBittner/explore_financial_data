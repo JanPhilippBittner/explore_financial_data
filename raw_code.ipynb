{
 "cells": [
  {
   "cell_type": "code",
   "execution_count": null,
   "id": "361e51a2-a5af-4217-81bc-1ae868752e81",
   "metadata": {},
   "outputs": [],
   "source": [
    "import json\n",
    "from urllib.request import urlopen\n",
    "\n",
    "import pandas as pd\n",
    "import numpy as np\n",
    "import polars as pl\n",
    "\n",
    "from sklearn.preprocessing import LabelEncoder , StandardScaler\n",
    "\n",
    "import matplotlib.pyplot as plt\n",
    "import seaborn as sns\n",
    "import plotly.express as px"
   ]
  },
  {
   "cell_type": "code",
   "execution_count": null,
   "id": "17b14fbe-a160-495e-a498-d6c0c67b4cbd",
   "metadata": {},
   "outputs": [],
   "source": [
    "# read the transaction CSV\n",
    "df = pl.read_csv(\"transactions_data.csv\")"
   ]
  },
  {
   "cell_type": "code",
   "execution_count": null,
   "id": "c297379f-7ebd-439f-a0e2-58a1cbe16860",
   "metadata": {},
   "outputs": [],
   "source": [
    "# read the json file containing mcc codes\n",
    "with open(\"mcc_codes.json\" , \"r\") as f:\n",
    "    json_data = json.load(f)\n",
    "\n",
    "json_list = [[] , []]\n",
    "for key, value in json_data.items():\n",
    "    json_list[0].append(key)\n",
    "    json_list[1].append(value)\n",
    "\n",
    "df_mcc_codes = pl.DataFrame({\"mcc\" : json_list[0] , \"merchant_category\" : json_list[1]} , schema={\"mcc\" : pl.Int64 , \"merchant_category\" : pl.String} , strict=False)"
   ]
  },
  {
   "cell_type": "code",
   "execution_count": null,
   "id": "b70039f5-5c22-46dc-bdd0-19db3dcd489f",
   "metadata": {},
   "outputs": [],
   "source": [
    "# construct the final dataframe by joining the mcc_codes to it\n",
    "df = df.join(other=df_mcc_codes , on=\"mcc\", how=\"left\")"
   ]
  },
  {
   "cell_type": "code",
   "execution_count": null,
   "id": "17538790-5a69-4ffd-8013-ee1274f5bf05",
   "metadata": {},
   "outputs": [],
   "source": [
    "df.shape"
   ]
  },
  {
   "cell_type": "code",
   "execution_count": null,
   "id": "440e5cc7-5196-4479-a85a-994109cba0e6",
   "metadata": {},
   "outputs": [],
   "source": [
    "df.describe()"
   ]
  },
  {
   "cell_type": "code",
   "execution_count": null,
   "id": "b8e27a69-8882-49e8-beb3-f9bf56345b69",
   "metadata": {},
   "outputs": [],
   "source": [
    "df.glimpse(max_items_per_column=10)"
   ]
  },
  {
   "cell_type": "code",
   "execution_count": null,
   "id": "362cfd50-dbba-4061-bf6d-2731c79eaa68",
   "metadata": {},
   "outputs": [],
   "source": [
    "df.select(pl.all().n_unique())"
   ]
  },
  {
   "cell_type": "code",
   "execution_count": null,
   "id": "d0a04e6b-7b99-43f0-8eb5-b33d788963ef",
   "metadata": {},
   "outputs": [],
   "source": [
    "# This can be used for a visualization of different amounts of transactions\n",
    "df_chip_usage = df.get_column(\"use_chip\").value_counts()\n",
    "df.get_column(\"use_chip\").value_counts()"
   ]
  },
  {
   "cell_type": "code",
   "execution_count": null,
   "id": "2310482d-a880-47e1-bf86-fcf81de951aa",
   "metadata": {},
   "outputs": [],
   "source": [
    "df.head()"
   ]
  },
  {
   "cell_type": "code",
   "execution_count": null,
   "id": "422c1036-02ff-4053-8188-489ba86bb70d",
   "metadata": {},
   "outputs": [],
   "source": [
    "df.tail()"
   ]
  },
  {
   "cell_type": "code",
   "execution_count": null,
   "id": "18154dda-8fc0-4124-8c80-fb50f9dd9310",
   "metadata": {},
   "outputs": [],
   "source": [
    "## Data Cleaning"
   ]
  },
  {
   "cell_type": "code",
   "execution_count": null,
   "id": "3ccb2a61-96b5-4764-872f-2838f9c226de",
   "metadata": {},
   "outputs": [],
   "source": [
    "### Add the names of the States"
   ]
  },
  {
   "cell_type": "code",
   "execution_count": null,
   "id": "f9aca9e4-84f0-4a03-8f47-6eed4cb7f785",
   "metadata": {},
   "outputs": [],
   "source": [
    "### Set data type of attribute \"date\""
   ]
  },
  {
   "cell_type": "code",
   "execution_count": null,
   "id": "8aea5605-df65-4657-a645-332688ce3adf",
   "metadata": {},
   "outputs": [],
   "source": [
    "df = df.with_columns(\n",
    "    pl.col(\"date\").str.strptime(pl.Datetime, format=\"%Y-%m-%d %H:%M:%S\").alias(\"date\")\n",
    ")"
   ]
  },
  {
   "cell_type": "code",
   "execution_count": null,
   "id": "6da2b062-5163-4dbb-b9cc-cad007f7fc6e",
   "metadata": {},
   "outputs": [],
   "source": [
    "df = df.with_columns(\n",
    "    pl.col(\"date\").dt.date().alias(\"date\")\n",
    ")"
   ]
  },
  {
   "cell_type": "code",
   "execution_count": null,
   "id": "92822c6d-03d7-4932-a0c1-5e4b6ffc40c9",
   "metadata": {},
   "outputs": [],
   "source": [
    "### Cast attribute zip to integer"
   ]
  },
  {
   "cell_type": "code",
   "execution_count": null,
   "id": "88f531aa-4e94-4764-9ce7-9da88d8bd150",
   "metadata": {},
   "outputs": [],
   "source": [
    "df = df.cast({\"zip\":pl.Int64})"
   ]
  },
  {
   "cell_type": "code",
   "execution_count": null,
   "id": "aaf74d6a-30bb-4e96-97c4-56fea3cd842a",
   "metadata": {},
   "outputs": [],
   "source": [
    "### Split amount into Debit and Credit"
   ]
  },
  {
   "cell_type": "code",
   "execution_count": null,
   "id": "77e62e91-eee9-4b17-b723-4677cd614b25",
   "metadata": {},
   "outputs": [],
   "source": [
    "df = df.with_columns(\n",
    "    pl.col(\"amount\").str.replace_all(\"$\",\"\" , literal=True).alias(\"amount\")\n",
    ")"
   ]
  },
  {
   "cell_type": "code",
   "execution_count": null,
   "id": "4a9ccd77-c962-4b8c-95b5-52ba2f4af80e",
   "metadata": {},
   "outputs": [],
   "source": [
    "df = df.cast({\"amount\" : pl.Float32})"
   ]
  },
  {
   "cell_type": "code",
   "execution_count": null,
   "id": "f06c93f6-814e-4ae5-abb2-9dde5c38e6ab",
   "metadata": {},
   "outputs": [],
   "source": [
    "# split up \"amount\", clean it from nulls, remove decimals and rename the new columns\n",
    "df = df.with_columns(\n",
    "    pl.col(\"amount\").round(0).alias(\"amount\")\n",
    "    ,pl.when(pl.col(\"amount\") < 0).then(pl.col(\"amount\")*-1).fill_null(0).round(0).alias(\"debit\")\n",
    "    ,pl.when(pl.col(\"amount\") >= 0).then(pl.col(\"amount\")).fill_null(0).round(0).alias(\"credit\")\n",
    "    , pl.when(pl.col(\"amount\") < 0).then(0).otherwise(1).fill_null(0).alias(\"in_out_flag\")\n",
    ")"
   ]
  },
  {
   "cell_type": "code",
   "execution_count": null,
   "id": "253bbea5-5839-46ac-9930-8167c4b66774",
   "metadata": {},
   "outputs": [],
   "source": [
    "# filter out the transactions that now have amount 0\n",
    "amount_of_0_transactions = df.select(\"amount\").filter(pl.col(\"amount\")==0).shape[0]\n",
    "amount_of_total_transactions = df.shape[0]\n",
    "print(\"Percentage of transactions lost due to removing decimals: \" + str(round(amount_of_0_transactions / amount_of_total_transactions * 100 , 2) ) + '%')"
   ]
  },
  {
   "cell_type": "code",
   "execution_count": null,
   "id": "65ddddfa-7314-477e-8e62-371600cfba6c",
   "metadata": {},
   "outputs": [],
   "source": [
    "df = df.filter(pl.col(\"amount\") != 0)"
   ]
  },
  {
   "cell_type": "code",
   "execution_count": null,
   "id": "820fa62a-f948-4f43-b584-5170ffff174a",
   "metadata": {},
   "outputs": [],
   "source": [
    "# Cast \"amount\" , \"debit\" and \"credit\" to 64 Bit Integer\n",
    "df = df.cast({\"amount\" : pl.Int64 , \"debit\" : pl.Int64 , \"credit\" : pl.Int64})"
   ]
  },
  {
   "cell_type": "code",
   "execution_count": null,
   "id": "a9e99d7c-1d5d-46c1-b326-6d5dd02804e7",
   "metadata": {},
   "outputs": [],
   "source": [
    "df.select(pl.col(\"debit\")).filter(pl.col(\"debit\")!= 0)"
   ]
  },
  {
   "cell_type": "code",
   "execution_count": null,
   "id": "8ac586f4-8adb-4efa-8dcc-273568b6e522",
   "metadata": {},
   "outputs": [],
   "source": [
    "### Play around with removing nulls"
   ]
  },
  {
   "cell_type": "code",
   "execution_count": null,
   "id": "48b6e9a1-b73d-46c3-af15-a5d0a339eaff",
   "metadata": {},
   "outputs": [],
   "source": [
    "# drop \"erro\"\n",
    "df = df.drop(\"errors\")\n",
    "# drop all entries containing nulls\n",
    "df = df.drop_nulls()"
   ]
  },
  {
   "cell_type": "code",
   "execution_count": null,
   "id": "fe06cc3b-252d-4870-93d8-4e7e793f9c3d",
   "metadata": {},
   "outputs": [],
   "source": [
    "print(\"The percentage of entries remaining is: \" + str(round( df.shape[0]/13305915*100, 1)) + \"%\")"
   ]
  },
  {
   "cell_type": "code",
   "execution_count": null,
   "id": "3160e243-d65c-4631-b7a8-ec9c50c0934b",
   "metadata": {},
   "outputs": [],
   "source": [
    "# Analysis"
   ]
  },
  {
   "cell_type": "code",
   "execution_count": null,
   "id": "0e450e73-b9dd-4bda-be15-3be85df0a53d",
   "metadata": {},
   "outputs": [],
   "source": [
    "## Show Pairplot"
   ]
  },
  {
   "cell_type": "code",
   "execution_count": null,
   "id": "bf9dfca1-45cf-431c-b297-530a69adf633",
   "metadata": {},
   "outputs": [],
   "source": [
    "sns.pairplot(df.to_pandas(), hue='clusters' , palette='viridis')\n",
    "plt.show()"
   ]
  },
  {
   "cell_type": "code",
   "execution_count": null,
   "id": "c9e8c128-264f-41eb-9f67-d52c4d26fca8",
   "metadata": {},
   "outputs": [],
   "source": [
    "### Show Distributions of payments in total"
   ]
  },
  {
   "cell_type": "code",
   "execution_count": null,
   "id": "e608addf-ed4c-4f6e-9029-2125eb79945c",
   "metadata": {},
   "outputs": [],
   "source": [
    "df.select(pl.col(\"amount\").min())"
   ]
  },
  {
   "cell_type": "code",
   "execution_count": null,
   "id": "de70591d-13ce-42b2-b346-89fa3053ebc7",
   "metadata": {},
   "outputs": [],
   "source": [
    "df.select(pl.col(\"amount\").max())"
   ]
  },
  {
   "cell_type": "code",
   "execution_count": null,
   "id": "ed58fabc-1203-4089-9396-64c69cc4d284",
   "metadata": {},
   "outputs": [],
   "source": [
    "print(df.select(pl.col(\"amount\").std()))"
   ]
  },
  {
   "cell_type": "code",
   "execution_count": null,
   "id": "79a2ff27-d484-4371-9f8e-78193742c66a",
   "metadata": {},
   "outputs": [],
   "source": [
    "### Calculate Metrics"
   ]
  },
  {
   "cell_type": "code",
   "execution_count": null,
   "id": "031af013-cf77-4c55-8b79-80bcba57b8ad",
   "metadata": {},
   "outputs": [],
   "source": [
    "# Location credit\n",
    "df_location_credit = df.select(pl.col(\"credit\")).filter(pl.col(\"credit\") != 0)\n",
    "df_cred_mean = df_location_credit.select(pl.mean(\"credit\").alias(\"mean_credit\"))\n",
    "df_cred_median = df_location_credit.select(pl.median(\"credit\").alias(\"median_credit\"))\n",
    "df_cred_mode =  df_location_credit.select(pl.col(\"credit\").mode().alias(\"mode_credit\"))\n",
    "# Location debit\n",
    "df_location_debit = df.select(pl.col(\"debit\")).filter(pl.col(\"debit\") != 0)\n",
    "df_deb_mean = df_location_debit.select(pl.mean(\"debit\").alias(\"mean_debit\"))\n",
    "df_deb_median = df_location_debit.select(pl.median(\"debit\").alias(\"median_debit\"))\n",
    "df_deb_mode =  df_location_debit.select(pl.col(\"debit\").mode().alias(\"mode_debit\"))"
   ]
  },
  {
   "cell_type": "code",
   "execution_count": null,
   "id": "6d66b5d4-b434-45b9-ad7d-258368ed48e0",
   "metadata": {},
   "outputs": [],
   "source": [
    "# concat to new dataframe\n",
    "df_location = pl.concat([df_cred_mean ,df_deb_mean , df_cred_median , df_deb_median , df_cred_mode , df_deb_mode] , how=\"horizontal\")\n",
    "print(df_location)"
   ]
  },
  {
   "cell_type": "code",
   "execution_count": null,
   "id": "fcc74d34-ce53-4c4c-8806-a52129fab049",
   "metadata": {},
   "outputs": [],
   "source": [
    "## Distributions of Debit & Credit"
   ]
  },
  {
   "cell_type": "code",
   "execution_count": null,
   "id": "816bd9b2-1c13-4cf9-abb3-d657d2c8b85c",
   "metadata": {},
   "outputs": [],
   "source": [
    "#sns.histplot(data=df.filter(pl.col(\"credit\")!=0), x=\"credit\", bins=80)"
   ]
  },
  {
   "cell_type": "code",
   "execution_count": null,
   "id": "c13296a6-5253-4636-9b65-b3707a84003d",
   "metadata": {},
   "outputs": [],
   "source": [
    "#sns.histplot(data=df.filter(pl.col(\"credit\")!=0), x=\"credit\", log_scale=True , bins=80)"
   ]
  },
  {
   "cell_type": "code",
   "execution_count": null,
   "id": "71352205-606c-48d9-8d9e-14cf3010a2c1",
   "metadata": {},
   "outputs": [],
   "source": [
    "#sns.histplot(data=df.filter(pl.col(\"debit\")!=0), x=\"debit\", bins=80)"
   ]
  },
  {
   "cell_type": "code",
   "execution_count": null,
   "id": "0a449cf4-2a67-4f0a-ba4f-5cbacf23e28a",
   "metadata": {},
   "outputs": [],
   "source": [
    "#sns.histplot(data=df.filter(pl.col(\"debit\")!=0), x=\"debit\" , log_scale=True, bins=80)"
   ]
  },
  {
   "cell_type": "code",
   "execution_count": null,
   "id": "6cc5575b-5732-4f8e-9448-d8e0e786815d",
   "metadata": {},
   "outputs": [],
   "source": [
    "## Correlation and Covariance"
   ]
  },
  {
   "cell_type": "code",
   "execution_count": null,
   "id": "25dee4dc-cb57-4741-8ecb-21bb7c3721ca",
   "metadata": {},
   "outputs": [],
   "source": [
    "### Feature encoding"
   ]
  },
  {
   "cell_type": "code",
   "execution_count": null,
   "id": "a74241db-f65b-4509-8008-a781521bfc38",
   "metadata": {},
   "outputs": [],
   "source": [
    "df.head()"
   ]
  },
  {
   "cell_type": "code",
   "execution_count": null,
   "id": "66ecc410-2c6d-4e43-97cc-cb91db0e3803",
   "metadata": {},
   "outputs": [],
   "source": [
    "# Label encoding for the nominal features\n",
    "enc_label = LabelEncoder()\n",
    "\n",
    "label_mappings = {}\n",
    "\n",
    "feat_nominal = [\"use_chip\" , \"merchant_city\" , \"merchant_state\" , \"merchant_category\"]\n",
    "df_encode = df\n",
    "for x in feat_nominal:\n",
    "    df_encode = df_encode.with_columns(pl.Series(x , enc_label.fit_transform(df_encode[x].to_numpy())))\n",
    "    label_mappings[x] = dict(zip(enc_label.classes_, range(len(enc_label.classes_))))"
   ]
  },
  {
   "cell_type": "code",
   "execution_count": null,
   "id": "45eee55b-bd19-4708-bd50-14d8a899b921",
   "metadata": {},
   "outputs": [],
   "source": [
    "print(df_encode.select([\"use_chip\" , \"merchant_id\" , \"merchant_city\" , \"merchant_state\", \"zip\" , \"merchant_category\" ,\"debit\" , \"credit\" , \"amount\"]))"
   ]
  },
  {
   "cell_type": "code",
   "execution_count": null,
   "id": "57540f11-83e1-4fbb-bae8-e35e625bef83",
   "metadata": {},
   "outputs": [],
   "source": [
    "# Standardizing the dataframe\n",
    "df_scale = df_encode.select([\"use_chip\" , \"merchant_id\" , \"merchant_city\" , \"merchant_state\", \"zip\" , \"merchant_category\" ,\"debit\" , \"credit\" , \"amount\"])\n",
    "transformer = StandardScaler().fit(df_scale)\n",
    "transformer"
   ]
  },
  {
   "cell_type": "code",
   "execution_count": null,
   "id": "363e5694-0a01-418c-94a3-b540e116fe48",
   "metadata": {},
   "outputs": [],
   "source": [
    "trans_arr = transformer.transform(df_scale)\n",
    "# Extract the columns of the DataFrame\n",
    "df_scale_columns = df_scale.columns\n",
    "\n",
    "# Re-Construct the DataFrame with the scaled information\n",
    "df_scaled = pl.DataFrame(trans_arr , schema=df_scale_columns)"
   ]
  },
  {
   "cell_type": "code",
   "execution_count": null,
   "id": "83d76085-4626-4d9b-87a9-2310583c1faf",
   "metadata": {},
   "outputs": [],
   "source": [
    "print(df_scaled)"
   ]
  },
  {
   "cell_type": "code",
   "execution_count": null,
   "id": "9833f661-60ba-4994-8c4d-a463da7973bc",
   "metadata": {},
   "outputs": [],
   "source": [
    "### Correlation Matrix"
   ]
  },
  {
   "cell_type": "code",
   "execution_count": null,
   "id": "aee68c07-754e-4d71-bec0-1c369467f59a",
   "metadata": {},
   "outputs": [],
   "source": [
    "cor_mat = df_scaled.select(df_scaled).corr()\n",
    "plt.figure(figsize=(80, 80), dpi=70) \n",
    "ax = sns.heatmap(cor_mat, vmin=-1, vmax=1, annot=True, fmt=\"f\")\n",
    "plt.show()"
   ]
  },
  {
   "cell_type": "code",
   "execution_count": null,
   "id": "07f1aff4-57fb-4c1c-ab8f-b70de4a8e1b8",
   "metadata": {},
   "outputs": [],
   "source": [
    "print(cor_mat)"
   ]
  },
  {
   "cell_type": "code",
   "execution_count": null,
   "id": "81ba1e28-ce65-45f3-ae7b-6fcc09aec530",
   "metadata": {},
   "outputs": [],
   "source": [
    "# calcualte the Covariance Matric. NOTE!!!!! Here we should use the unstandardized version to really get the covariance but that sucks, is unreadable and doesn't yield any benefit anyways.\n",
    "# Due to this issue we show this \n",
    "covariance_matrix_unscaled = np.cov(df_encode, rowvar=False)  # rowvar=False means columns are features\n",
    "covariance_matrix = np.cov(df_scaled, rowvar=False)  # rowvar=False means columns are features\n",
    "# Visualize the Covariance Matrix\n",
    "plt.figure(figsize=(10, 10), dpi=70)  # Adjust figure size for clarity\n",
    "ax = sns.heatmap(covariance_matrix, annot=True, fmt=\".2f\", cmap='coolwarm', cbar=True , xticklabels=df_scaled.columns , yticklabels=df_scaled.columns)\n",
    "# Add labels and title\n",
    "plt.title(\"Covariance Matrix Heatmap\")\n",
    "plt.show()"
   ]
  },
  {
   "cell_type": "code",
   "execution_count": null,
   "id": "fff21a17-7573-4a83-8be2-145bd9b6d80e",
   "metadata": {},
   "outputs": [],
   "source": [
    "## Choropleth map of payments per state"
   ]
  },
  {
   "cell_type": "code",
   "execution_count": null,
   "id": "bc4a330f-8184-4b82-ba85-881436cb5cb7",
   "metadata": {},
   "outputs": [],
   "source": [
    "# This is is perhaps necessary for later on to map the states\n",
    "state_full_names = {\n",
    "    'AL': 'Alabama'\n",
    "    , 'AK': 'Alaska'\n",
    "    , 'AZ': 'Arizona'\n",
    "    , 'AR': 'Arkansas', \n",
    "    'CA': 'California'\n",
    "    , 'CO': 'Colorado'\n",
    "    , 'CT': 'Connecticut'\n",
    "    , 'DE': 'Delaware', \n",
    "    'DC': 'District of Columbia'\n",
    "    , 'FL': 'Florida'\n",
    "    , 'GA': 'Georgia'\n",
    "    , 'HI': 'Hawaii'\n",
    "    , 'ID': 'Idaho'\n",
    "    , 'IL': 'Illinois'\n",
    "    , 'IN': 'Indiana'\n",
    "    , 'IA': 'Iowa'\n",
    "    , 'KS': 'Kansas', \n",
    "    'KY': 'Kentucky'\n",
    "    , 'LA': 'Louisiana'\n",
    "    , 'ME': 'Maine'\n",
    "    , 'MD': 'Maryland', \n",
    "    'MA': 'Massachusetts'\n",
    "    , 'MI': 'Michigan'\n",
    "    , 'MN': 'Minnesota'\n",
    "    , 'MS': 'Mississippi', \n",
    "    'MO': 'Missouri'\n",
    "    , 'MT': 'Montana'\n",
    "    , 'NE': 'Nebraska'\n",
    "    , 'NV': 'Nevada', \n",
    "    'NH': 'New Hampshire'\n",
    "    , 'NJ': 'New Jersey'\n",
    "    , 'NM': 'New Mexico'\n",
    "    , 'NY': 'New York', \n",
    "    'NC': 'North Carolina'\n",
    "    , 'ND': 'North Dakota'\n",
    "    , 'OH': 'Ohio'\n",
    "    , 'OK': 'Oklahoma', \n",
    "    'OR': 'Oregon'\n",
    "    , 'PA': 'Pennsylvania'\n",
    "    , 'RI': 'Rhode Island'\n",
    "    , 'SC': 'South Carolina', \n",
    "    'SD': 'South Dakota'\n",
    "    , 'TN': 'Tennessee'\n",
    "    , 'TX': 'Texas'\n",
    "    , 'UT': 'Utah', \n",
    "    'VT': 'Vermont'\n",
    "    , 'VA': 'Virginia'\n",
    "    , 'WA': 'Washington'\n",
    "    , 'WV': 'West Virginia', \n",
    "    'WI': 'Wisconsin'\n",
    "    , 'WY': 'Wyoming'\n",
    "    , 'AA': 'Armed Forces Americas'\n",
    "}\n",
    "\n",
    "\n",
    "state_abbreviation_list = []\n",
    "state_name_list = []\n",
    "for x in state_full_names:\n",
    "    state_abbreviation_list.append(x)\n",
    "    state_name_list.append(state_full_names[x])\n",
    "    \n",
    "df_states_junc = pl.DataFrame({\"merchant_state\" : state_abbreviation_list, \"state_name\" :state_name_list})\n",
    "print(df_states_junc)\n",
    "df = df.join(other=df_states_junc , on=\"merchant_state\", how=\"left\")"
   ]
  },
  {
   "cell_type": "code",
   "execution_count": null,
   "id": "57b44cf5-bf4a-4f4a-a220-c5ebe265f96f",
   "metadata": {},
   "outputs": [],
   "source": [
    "# Add the state_ids from the geojson\n",
    "with urlopen('https://raw.githubusercontent.com/PublicaMundi/MappingAPI/master/data/geojson/us-states.json') as response:\n",
    "    states_geojson = json.load(response)\n",
    "\n",
    "# Extract the features from the GeoJSON\n",
    "features = states_geojson['features']\n",
    "\n",
    "# Extract `id` and `name` from features\n",
    "data = [(feature['id'], feature['properties']['name']) for feature in features]\n",
    "# Create a Polars DataFrame\n",
    "df_state_ids = pl.DataFrame(data, schema=[\"state_id\", \"state_name\"])\n",
    "# Join the ids onto the original dataframe\n",
    "df = df.join(other=df_state_ids, on=\"state_name\", how='left')"
   ]
  },
  {
   "cell_type": "code",
   "execution_count": null,
   "id": "e6342537-255c-4a95-9338-2be04d52c751",
   "metadata": {},
   "outputs": [],
   "source": [
    "df.head()"
   ]
  },
  {
   "cell_type": "code",
   "execution_count": null,
   "id": "266d4d1c-cbe7-4792-86b9-dea0a51817f4",
   "metadata": {},
   "outputs": [],
   "source": [
    "df.group_by(pl.col(\"state_id\")).agg(pl.col(\"amount\").sum().alias(\"amount\"))"
   ]
  },
  {
   "cell_type": "code",
   "execution_count": null,
   "id": "f0bffaf5-332d-4546-904b-ba1e88a059f4",
   "metadata": {},
   "outputs": [],
   "source": [
    "# Main version for total volume of financial transactions\n",
    "# Load GeoJSON for US states\n",
    "with urlopen('https://raw.githubusercontent.com/PublicaMundi/MappingAPI/master/data/geojson/us-states.json') as response:\n",
    "    states_geojson = json.load(response)\n",
    "\n",
    "# Aggregate total amount by state\n",
    "#state_aggregated = df.groupby('merchant_state', as_index=False)['amount'].sum()\n",
    "\n",
    "\n",
    "state_aggregated = (\n",
    "    df.group_by(pl.col(\"state_id\")).agg(pl.col(\"amount\").sum().alias(\"amount\"))\n",
    ")\n",
    "state_aggregated_count = df.group_by(pl.col(\"state_id\")).agg(pl.len().alias(\"transaction_count\"))\n",
    "\n",
    "\n",
    "# Create the choropleth map\n",
    "fig = px.choropleth_map(\n",
    "    state_aggregated,\n",
    "    geojson=states_geojson,\n",
    "    locations='state_id',  # Column containing state codes (e.g., 'CA', 'TX')\n",
    "    #featureidkey=\"properties.state\",  # GeoJSON property that matches locations\n",
    "    color='amount',  # Column to visualize\n",
    "    color_continuous_scale=\"Viridis\",\n",
    "    range_color=(0, 60000000), #state_aggregated['amount'].max()\n",
    "    #scope=\"usa\",  # Focus on the United States\n",
    "    map_style=\"carto-positron\",\n",
    "    zoom=3, center = {\"lat\": 37.0902, \"lon\": -95.7129},\n",
    "    opacity=0.5,\n",
    "    labels={'amount': 'Transaction Amount'}\n",
    ")\n",
    "\n",
    "# Adjust layout\n",
    "#fig.update_geos(fitbounds=\"locations\", visible=False)\n",
    "fig.update_layout(margin={\"r\": 0, \"t\": 0, \"l\": 0, \"b\": 0})\n",
    "#fig.update_traces(locationmode=\"USA-states\")\n",
    "fig.show()"
   ]
  },
  {
   "cell_type": "code",
   "execution_count": null,
   "id": "3d184fa0-ad00-4f85-8592-c1ab5abd30c7",
   "metadata": {},
   "outputs": [],
   "source": [
    "# This is the version for the counting of financial transactions\n",
    "# Load GeoJSON for US states\n",
    "with urlopen('https://raw.githubusercontent.com/PublicaMundi/MappingAPI/master/data/geojson/us-states.json') as response:\n",
    "    states_geojson = json.load(response)\n",
    "\n",
    "# Aggregate total amount by state\n",
    "#state_aggregated = df.groupby('merchant_state', as_index=False)['amount'].sum()\n",
    "\n",
    "\n",
    "\n",
    "state_aggregated_count = df.group_by(pl.col(\"state_id\")).agg(pl.len().alias(\"transaction_count\"))\n",
    "\n",
    "\n",
    "# Create the choropleth map\n",
    "fig = px.choropleth_map(\n",
    "    state_aggregated_count,\n",
    "    geojson=states_geojson,\n",
    "    locations='state_id',  # Column containing state codes (e.g., 'CA', 'TX')\n",
    "    #featureidkey=\"properties.state\",  # GeoJSON property that matches locations\n",
    "    color='transaction_count',  # Column to visualize\n",
    "    color_continuous_scale=\"Viridis\",\n",
    "    range_color=(state_aggregated_count.select(pl.min(\"transaction_count\")).to_series()[0], state_aggregated_count.select(pl.max(\"transaction_count\")).to_series()[0]), #state_aggregated['amount'].max()\n",
    "    #scope=\"usa\",  # Focus on the United States\n",
    "    map_style=\"carto-positron\",\n",
    "    zoom=3, center = {\"lat\": 37.0902, \"lon\": -95.7129},\n",
    "    opacity=0.5,\n",
    "    labels={'transaction_count': 'Transaction Count'}\n",
    ")\n",
    "\n",
    "# Adjust layout\n",
    "#fig.update_geos(fitbounds=\"locations\", visible=False)\n",
    "fig.update_layout(margin={\"r\": 0, \"t\": 0, \"l\": 0, \"b\": 0})\n",
    "#fig.update_traces(locationmode=\"USA-states\")\n",
    "fig.show()"
   ]
  },
  {
   "cell_type": "code",
   "execution_count": null,
   "id": "96d4c115-fa64-47b5-9611-c8c516a94a64",
   "metadata": {},
   "outputs": [],
   "source": [
    "#!!!!!!!!!!!!!This is the version with the Logarithm to scale everything, but it makes no sense\n",
    "# Load GeoJSON for US states\n",
    "with urlopen('https://raw.githubusercontent.com/PublicaMundi/MappingAPI/master/data/geojson/us-states.json') as response:\n",
    "    states_geojson = json.load(response)\n",
    "\n",
    "# Aggregate total amount by state\n",
    "#state_aggregated = df.groupby('merchant_state', as_index=False)['amount'].sum()\n",
    "\n",
    "\n",
    "state_aggregated = (\n",
    "    df.group_by(pl.col(\"state_id\")).agg(pl.col(\"amount\").sum().alias(\"amount\"))\n",
    ")\n",
    "\n",
    "state_aggregated = state_aggregated.with_columns(\n",
    "    pl.col(\"amount\").log10().alias(\"amount_standardized\")\n",
    ")\n",
    "\n",
    "\n",
    "\n",
    "# Create the choropleth map\n",
    "fig = px.choropleth_map(\n",
    "    state_aggregated,\n",
    "    geojson=states_geojson,\n",
    "    locations='state_id',  # Column containing state codes (e.g., 'CA', 'TX')\n",
    "    #featureidkey=\"properties.state\",  # GeoJSON property that matches locations\n",
    "    color='amount_standardized',  # Column to visualize\n",
    "    color_continuous_scale=\"Viridis\",\n",
    "    range_color=(state_aggregated.select(pl.min(\"amount_standardized\")).to_series()[0], state_aggregated.select(pl.max(\"amount_standardized\")).to_series()[0]), #state_aggregated['amount'].max()\n",
    "    #scope=\"usa\",  # Focus on the United States\n",
    "    map_style=\"carto-positron\",\n",
    "    zoom=3, center = {\"lat\": 37.0902, \"lon\": -95.7129},\n",
    "    opacity=0.5,\n",
    "    labels={'amount': 'Transaction Amount'}\n",
    ")\n",
    "\n",
    "# Adjust layout\n",
    "#fig.update_geos(fitbounds=\"locations\", visible=False)\n",
    "fig.update_layout(margin={\"r\": 0, \"t\": 0, \"l\": 0, \"b\": 0})\n",
    "#fig.update_traces(locationmode=\"USA-states\")\n",
    "fig.show()"
   ]
  },
  {
   "cell_type": "code",
   "execution_count": null,
   "id": "3fcb29a6-d78e-4c3e-9c59-4fc4a5a918c6",
   "metadata": {},
   "outputs": [],
   "source": [
    "## Count the payments per day"
   ]
  },
  {
   "cell_type": "code",
   "execution_count": null,
   "id": "9efcaa01-68d0-4c0d-bbf5-1cd765c7c1c5",
   "metadata": {},
   "outputs": [],
   "source": [
    "df_nunique = df.select(pl.all().n_unique())\n",
    "df_nunique.head()"
   ]
  },
  {
   "cell_type": "code",
   "execution_count": null,
   "id": "998c4cc6-f2e6-45e7-9a34-ac5b8e5c43cb",
   "metadata": {},
   "outputs": [],
   "source": [
    "df_count_per_day = df.with_columns(\n",
    "    pl.lit(1).alias(\"counter\")\n",
    ")"
   ]
  },
  {
   "cell_type": "code",
   "execution_count": null,
   "id": "fbb3eea3-affa-4368-943c-a1604487c2ed",
   "metadata": {},
   "outputs": [],
   "source": [
    "df_count_per_day.head()"
   ]
  },
  {
   "cell_type": "code",
   "execution_count": null,
   "id": "9428529e-039c-4929-909b-a158052ef10e",
   "metadata": {},
   "outputs": [],
   "source": [
    "df_count_per_day = df_count_per_day.with_columns(\n",
    "    pl.col(\"date\").dt.date().alias(\"date\")\n",
    ")"
   ]
  },
  {
   "cell_type": "code",
   "execution_count": null,
   "id": "9ac5850a-a456-44a1-b75c-97dad9ddbab5",
   "metadata": {},
   "outputs": [],
   "source": [
    "df_count_per_day.head()"
   ]
  },
  {
   "cell_type": "code",
   "execution_count": null,
   "id": "8425a086-9613-4c92-826a-5bb223853ce4",
   "metadata": {},
   "outputs": [],
   "source": [
    "df_count_per_day.group_by(\"date\").agg(pl.col(\"counter\").sum())"
   ]
  },
  {
   "cell_type": "code",
   "execution_count": null,
   "id": "42b5c7c8-ca09-4dd6-992c-a7a930877e11",
   "metadata": {},
   "outputs": [],
   "source": [
    "print(df_count_per_day)"
   ]
  }
 ],
 "metadata": {
  "kernelspec": {
   "display_name": "Python 3 (ipykernel)",
   "language": "python",
   "name": "python3"
  },
  "language_info": {
   "codemirror_mode": {
    "name": "ipython",
    "version": 3
   },
   "file_extension": ".py",
   "mimetype": "text/x-python",
   "name": "python",
   "nbconvert_exporter": "python",
   "pygments_lexer": "ipython3",
   "version": "3.10.14"
  }
 },
 "nbformat": 4,
 "nbformat_minor": 5
}
